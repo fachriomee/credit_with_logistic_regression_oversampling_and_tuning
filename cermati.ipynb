{
 "cells": [
  {
   "cell_type": "markdown",
   "id": "d08e55fc",
   "metadata": {},
   "source": [
    "# Mengimport Library"
   ]
  },
  {
   "cell_type": "code",
   "execution_count": 1,
   "id": "7e528a24",
   "metadata": {},
   "outputs": [],
   "source": [
    "import numpy as np\n",
    "import pandas as pd\n",
    "import matplotlib.pyplot as plt\n",
    "import seaborn as sns\n",
    "pd.set_option('display.max_rows', None)\n",
    "pd.set_option('display.max_columns', None)\n",
    "import warnings\n",
    "warnings.filterwarnings('ignore')\n",
    "import scipy.stats as st"
   ]
  },
  {
   "cell_type": "markdown",
   "id": "62671dca",
   "metadata": {},
   "source": [
    "# Deskripsi Kolom"
   ]
  },
  {
   "cell_type": "markdown",
   "id": "6c45c2bc",
   "metadata": {},
   "source": [
    "- Loan ID : ID pinjaman\n",
    "- Target : 1 menunjukkan klien dengan pembayaran lebih dari X hari, 0 menunjukkan kasus lainnya\n",
    "- contract_type : Identifikasi apakah pinjaman tunai atau bergulir\n",
    "- Gender : jenis kelamin peminjam\n",
    "- Num_children : jumlah anak peminjam\n",
    "- income : penghasilan peminjam\n",
    "- approved_credit : Jumlah kredit pinjaman yang disetujui bank\n",
    "- annuity : biaya yang harus dibayarkan per bulan\n",
    "- price : jaminan pinjaman\n",
    "- income_type : tipe penghasilan peminjam\n",
    "- housing_type : kondisi rumah peminjam(sewa, tinggal dengan ortu dll)\n",
    "- days_age : usia peminjam pada saat meminjam\n",
    "- days_work : jumlah hari kerja peminjam\n",
    "- days_id_change : jumlah hari sebelum peminjam mengganti registrasinya\n",
    "- weekdays_apply : Pada hari apa dalam seminggu klien mengajukan pinjaman\n",
    "- hour_apply : pada jam berapa klien memulai pinjamannya\n",
    "- organization_type : tipe organisasi tempat peminjam bekerja\n",
    "- ext score 1, ext score 2, ext score 3 : skor dari data eksternal"
   ]
  },
  {
   "cell_type": "markdown",
   "id": "602f0555",
   "metadata": {},
   "source": [
    "# Membaca dataset"
   ]
  },
  {
   "cell_type": "code",
   "execution_count": 2,
   "id": "c10cd76e",
   "metadata": {},
   "outputs": [],
   "source": [
    "df = pd.read_csv(r'D:\\purwadhika\\lamaran kerja\\app_train.csv')"
   ]
  },
  {
   "cell_type": "code",
   "execution_count": 3,
   "id": "59c54813",
   "metadata": {},
   "outputs": [
    {
     "data": {
      "text/html": [
       "<div>\n",
       "<style scoped>\n",
       "    .dataframe tbody tr th:only-of-type {\n",
       "        vertical-align: middle;\n",
       "    }\n",
       "\n",
       "    .dataframe tbody tr th {\n",
       "        vertical-align: top;\n",
       "    }\n",
       "\n",
       "    .dataframe thead th {\n",
       "        text-align: right;\n",
       "    }\n",
       "</style>\n",
       "<table border=\"1\" class=\"dataframe\">\n",
       "  <thead>\n",
       "    <tr style=\"text-align: right;\">\n",
       "      <th></th>\n",
       "      <th>Unnamed: 0</th>\n",
       "      <th>LN_ID</th>\n",
       "      <th>TARGET</th>\n",
       "      <th>CONTRACT_TYPE</th>\n",
       "      <th>GENDER</th>\n",
       "      <th>NUM_CHILDREN</th>\n",
       "      <th>INCOME</th>\n",
       "      <th>APPROVED_CREDIT</th>\n",
       "      <th>ANNUITY</th>\n",
       "      <th>PRICE</th>\n",
       "      <th>INCOME_TYPE</th>\n",
       "      <th>EDUCATION</th>\n",
       "      <th>FAMILY_STATUS</th>\n",
       "      <th>HOUSING_TYPE</th>\n",
       "      <th>DAYS_AGE</th>\n",
       "      <th>DAYS_WORK</th>\n",
       "      <th>DAYS_REGISTRATION</th>\n",
       "      <th>DAYS_ID_CHANGE</th>\n",
       "      <th>WEEKDAYS_APPLY</th>\n",
       "      <th>HOUR_APPLY</th>\n",
       "      <th>ORGANIZATION_TYPE</th>\n",
       "      <th>EXT_SCORE_1</th>\n",
       "      <th>EXT_SCORE_2</th>\n",
       "      <th>EXT_SCORE_3</th>\n",
       "    </tr>\n",
       "  </thead>\n",
       "  <tbody>\n",
       "    <tr>\n",
       "      <th>0</th>\n",
       "      <td>201468</td>\n",
       "      <td>333538</td>\n",
       "      <td>0</td>\n",
       "      <td>Revolving loans</td>\n",
       "      <td>F</td>\n",
       "      <td>1</td>\n",
       "      <td>67500.0</td>\n",
       "      <td>202500.0</td>\n",
       "      <td>10125.0</td>\n",
       "      <td>202500.0</td>\n",
       "      <td>Working</td>\n",
       "      <td>Secondary / secondary special</td>\n",
       "      <td>Married</td>\n",
       "      <td>With parents</td>\n",
       "      <td>-11539</td>\n",
       "      <td>-921</td>\n",
       "      <td>-119.0</td>\n",
       "      <td>-2757</td>\n",
       "      <td>TUESDAY</td>\n",
       "      <td>18</td>\n",
       "      <td>Business Entity Type 3</td>\n",
       "      <td>0.572805</td>\n",
       "      <td>0.608276</td>\n",
       "      <td>NaN</td>\n",
       "    </tr>\n",
       "    <tr>\n",
       "      <th>1</th>\n",
       "      <td>264803</td>\n",
       "      <td>406644</td>\n",
       "      <td>0</td>\n",
       "      <td>Cash loans</td>\n",
       "      <td>F</td>\n",
       "      <td>1</td>\n",
       "      <td>202500.0</td>\n",
       "      <td>976711.5</td>\n",
       "      <td>49869.0</td>\n",
       "      <td>873000.0</td>\n",
       "      <td>Commercial associate</td>\n",
       "      <td>Secondary / secondary special</td>\n",
       "      <td>Married</td>\n",
       "      <td>House / apartment</td>\n",
       "      <td>-15743</td>\n",
       "      <td>-4482</td>\n",
       "      <td>-1797.0</td>\n",
       "      <td>-2455</td>\n",
       "      <td>TUESDAY</td>\n",
       "      <td>14</td>\n",
       "      <td>Other</td>\n",
       "      <td>0.655600</td>\n",
       "      <td>0.684298</td>\n",
       "      <td>NaN</td>\n",
       "    </tr>\n",
       "    <tr>\n",
       "      <th>2</th>\n",
       "      <td>137208</td>\n",
       "      <td>259130</td>\n",
       "      <td>0</td>\n",
       "      <td>Cash loans</td>\n",
       "      <td>F</td>\n",
       "      <td>0</td>\n",
       "      <td>180000.0</td>\n",
       "      <td>407520.0</td>\n",
       "      <td>25060.5</td>\n",
       "      <td>360000.0</td>\n",
       "      <td>Pensioner</td>\n",
       "      <td>Secondary / secondary special</td>\n",
       "      <td>Married</td>\n",
       "      <td>House / apartment</td>\n",
       "      <td>-20775</td>\n",
       "      <td>365243</td>\n",
       "      <td>-8737.0</td>\n",
       "      <td>-4312</td>\n",
       "      <td>THURSDAY</td>\n",
       "      <td>14</td>\n",
       "      <td>NA1</td>\n",
       "      <td>NaN</td>\n",
       "      <td>0.580687</td>\n",
       "      <td>0.749022</td>\n",
       "    </tr>\n",
       "    <tr>\n",
       "      <th>3</th>\n",
       "      <td>269220</td>\n",
       "      <td>411997</td>\n",
       "      <td>0</td>\n",
       "      <td>Cash loans</td>\n",
       "      <td>M</td>\n",
       "      <td>0</td>\n",
       "      <td>225000.0</td>\n",
       "      <td>808650.0</td>\n",
       "      <td>26086.5</td>\n",
       "      <td>675000.0</td>\n",
       "      <td>State servant</td>\n",
       "      <td>Higher education</td>\n",
       "      <td>Married</td>\n",
       "      <td>House / apartment</td>\n",
       "      <td>-20659</td>\n",
       "      <td>-10455</td>\n",
       "      <td>-4998.0</td>\n",
       "      <td>-4010</td>\n",
       "      <td>WEDNESDAY</td>\n",
       "      <td>10</td>\n",
       "      <td>Culture</td>\n",
       "      <td>NaN</td>\n",
       "      <td>0.623740</td>\n",
       "      <td>0.710674</td>\n",
       "    </tr>\n",
       "    <tr>\n",
       "      <th>4</th>\n",
       "      <td>122096</td>\n",
       "      <td>241559</td>\n",
       "      <td>0</td>\n",
       "      <td>Revolving loans</td>\n",
       "      <td>M</td>\n",
       "      <td>0</td>\n",
       "      <td>135000.0</td>\n",
       "      <td>180000.0</td>\n",
       "      <td>9000.0</td>\n",
       "      <td>180000.0</td>\n",
       "      <td>Commercial associate</td>\n",
       "      <td>Secondary / secondary special</td>\n",
       "      <td>Single / not married</td>\n",
       "      <td>House / apartment</td>\n",
       "      <td>-9013</td>\n",
       "      <td>-1190</td>\n",
       "      <td>-3524.0</td>\n",
       "      <td>-1644</td>\n",
       "      <td>SUNDAY</td>\n",
       "      <td>11</td>\n",
       "      <td>Construction</td>\n",
       "      <td>0.175511</td>\n",
       "      <td>0.492994</td>\n",
       "      <td>0.085595</td>\n",
       "    </tr>\n",
       "  </tbody>\n",
       "</table>\n",
       "</div>"
      ],
      "text/plain": [
       "   Unnamed: 0   LN_ID  TARGET    CONTRACT_TYPE GENDER  NUM_CHILDREN    INCOME  \\\n",
       "0      201468  333538       0  Revolving loans      F             1   67500.0   \n",
       "1      264803  406644       0       Cash loans      F             1  202500.0   \n",
       "2      137208  259130       0       Cash loans      F             0  180000.0   \n",
       "3      269220  411997       0       Cash loans      M             0  225000.0   \n",
       "4      122096  241559       0  Revolving loans      M             0  135000.0   \n",
       "\n",
       "   APPROVED_CREDIT  ANNUITY     PRICE           INCOME_TYPE  \\\n",
       "0         202500.0  10125.0  202500.0               Working   \n",
       "1         976711.5  49869.0  873000.0  Commercial associate   \n",
       "2         407520.0  25060.5  360000.0             Pensioner   \n",
       "3         808650.0  26086.5  675000.0         State servant   \n",
       "4         180000.0   9000.0  180000.0  Commercial associate   \n",
       "\n",
       "                       EDUCATION         FAMILY_STATUS       HOUSING_TYPE  \\\n",
       "0  Secondary / secondary special               Married       With parents   \n",
       "1  Secondary / secondary special               Married  House / apartment   \n",
       "2  Secondary / secondary special               Married  House / apartment   \n",
       "3               Higher education               Married  House / apartment   \n",
       "4  Secondary / secondary special  Single / not married  House / apartment   \n",
       "\n",
       "   DAYS_AGE  DAYS_WORK  DAYS_REGISTRATION  DAYS_ID_CHANGE WEEKDAYS_APPLY  \\\n",
       "0    -11539       -921             -119.0           -2757        TUESDAY   \n",
       "1    -15743      -4482            -1797.0           -2455        TUESDAY   \n",
       "2    -20775     365243            -8737.0           -4312       THURSDAY   \n",
       "3    -20659     -10455            -4998.0           -4010      WEDNESDAY   \n",
       "4     -9013      -1190            -3524.0           -1644         SUNDAY   \n",
       "\n",
       "   HOUR_APPLY       ORGANIZATION_TYPE  EXT_SCORE_1  EXT_SCORE_2  EXT_SCORE_3  \n",
       "0          18  Business Entity Type 3     0.572805     0.608276          NaN  \n",
       "1          14                   Other     0.655600     0.684298          NaN  \n",
       "2          14                     NA1          NaN     0.580687     0.749022  \n",
       "3          10                 Culture          NaN     0.623740     0.710674  \n",
       "4          11            Construction     0.175511     0.492994     0.085595  "
      ]
     },
     "execution_count": 3,
     "metadata": {},
     "output_type": "execute_result"
    }
   ],
   "source": [
    "df.head()"
   ]
  },
  {
   "cell_type": "code",
   "execution_count": 4,
   "id": "3cdf26f8",
   "metadata": {},
   "outputs": [
    {
     "data": {
      "text/html": [
       "<div>\n",
       "<style scoped>\n",
       "    .dataframe tbody tr th:only-of-type {\n",
       "        vertical-align: middle;\n",
       "    }\n",
       "\n",
       "    .dataframe tbody tr th {\n",
       "        vertical-align: top;\n",
       "    }\n",
       "\n",
       "    .dataframe thead th {\n",
       "        text-align: right;\n",
       "    }\n",
       "</style>\n",
       "<table border=\"1\" class=\"dataframe\">\n",
       "  <thead>\n",
       "    <tr style=\"text-align: right;\">\n",
       "      <th></th>\n",
       "      <th>Features</th>\n",
       "      <th>DataType</th>\n",
       "      <th>Null</th>\n",
       "      <th>NullPercentage</th>\n",
       "      <th>Unique</th>\n",
       "    </tr>\n",
       "  </thead>\n",
       "  <tbody>\n",
       "    <tr>\n",
       "      <th>0</th>\n",
       "      <td>Unnamed: 0</td>\n",
       "      <td>int64</td>\n",
       "      <td>0</td>\n",
       "      <td>0.00</td>\n",
       "      <td>61503</td>\n",
       "    </tr>\n",
       "    <tr>\n",
       "      <th>1</th>\n",
       "      <td>LN_ID</td>\n",
       "      <td>int64</td>\n",
       "      <td>0</td>\n",
       "      <td>0.00</td>\n",
       "      <td>61503</td>\n",
       "    </tr>\n",
       "    <tr>\n",
       "      <th>2</th>\n",
       "      <td>TARGET</td>\n",
       "      <td>int64</td>\n",
       "      <td>0</td>\n",
       "      <td>0.00</td>\n",
       "      <td>2</td>\n",
       "    </tr>\n",
       "    <tr>\n",
       "      <th>3</th>\n",
       "      <td>CONTRACT_TYPE</td>\n",
       "      <td>object</td>\n",
       "      <td>0</td>\n",
       "      <td>0.00</td>\n",
       "      <td>2</td>\n",
       "    </tr>\n",
       "    <tr>\n",
       "      <th>4</th>\n",
       "      <td>GENDER</td>\n",
       "      <td>object</td>\n",
       "      <td>0</td>\n",
       "      <td>0.00</td>\n",
       "      <td>2</td>\n",
       "    </tr>\n",
       "    <tr>\n",
       "      <th>5</th>\n",
       "      <td>NUM_CHILDREN</td>\n",
       "      <td>int64</td>\n",
       "      <td>0</td>\n",
       "      <td>0.00</td>\n",
       "      <td>10</td>\n",
       "    </tr>\n",
       "    <tr>\n",
       "      <th>6</th>\n",
       "      <td>INCOME</td>\n",
       "      <td>float64</td>\n",
       "      <td>0</td>\n",
       "      <td>0.00</td>\n",
       "      <td>861</td>\n",
       "    </tr>\n",
       "    <tr>\n",
       "      <th>7</th>\n",
       "      <td>APPROVED_CREDIT</td>\n",
       "      <td>float64</td>\n",
       "      <td>0</td>\n",
       "      <td>0.00</td>\n",
       "      <td>3562</td>\n",
       "    </tr>\n",
       "    <tr>\n",
       "      <th>8</th>\n",
       "      <td>ANNUITY</td>\n",
       "      <td>float64</td>\n",
       "      <td>1</td>\n",
       "      <td>0.00</td>\n",
       "      <td>9374</td>\n",
       "    </tr>\n",
       "    <tr>\n",
       "      <th>9</th>\n",
       "      <td>PRICE</td>\n",
       "      <td>float64</td>\n",
       "      <td>62</td>\n",
       "      <td>0.10</td>\n",
       "      <td>541</td>\n",
       "    </tr>\n",
       "    <tr>\n",
       "      <th>10</th>\n",
       "      <td>INCOME_TYPE</td>\n",
       "      <td>object</td>\n",
       "      <td>0</td>\n",
       "      <td>0.00</td>\n",
       "      <td>7</td>\n",
       "    </tr>\n",
       "    <tr>\n",
       "      <th>11</th>\n",
       "      <td>EDUCATION</td>\n",
       "      <td>object</td>\n",
       "      <td>0</td>\n",
       "      <td>0.00</td>\n",
       "      <td>5</td>\n",
       "    </tr>\n",
       "    <tr>\n",
       "      <th>12</th>\n",
       "      <td>FAMILY_STATUS</td>\n",
       "      <td>object</td>\n",
       "      <td>0</td>\n",
       "      <td>0.00</td>\n",
       "      <td>5</td>\n",
       "    </tr>\n",
       "    <tr>\n",
       "      <th>13</th>\n",
       "      <td>HOUSING_TYPE</td>\n",
       "      <td>object</td>\n",
       "      <td>0</td>\n",
       "      <td>0.00</td>\n",
       "      <td>6</td>\n",
       "    </tr>\n",
       "    <tr>\n",
       "      <th>14</th>\n",
       "      <td>DAYS_AGE</td>\n",
       "      <td>int64</td>\n",
       "      <td>0</td>\n",
       "      <td>0.00</td>\n",
       "      <td>16257</td>\n",
       "    </tr>\n",
       "    <tr>\n",
       "      <th>15</th>\n",
       "      <td>DAYS_WORK</td>\n",
       "      <td>int64</td>\n",
       "      <td>0</td>\n",
       "      <td>0.00</td>\n",
       "      <td>8524</td>\n",
       "    </tr>\n",
       "    <tr>\n",
       "      <th>16</th>\n",
       "      <td>DAYS_REGISTRATION</td>\n",
       "      <td>float64</td>\n",
       "      <td>0</td>\n",
       "      <td>0.00</td>\n",
       "      <td>13153</td>\n",
       "    </tr>\n",
       "    <tr>\n",
       "      <th>17</th>\n",
       "      <td>DAYS_ID_CHANGE</td>\n",
       "      <td>int64</td>\n",
       "      <td>0</td>\n",
       "      <td>0.00</td>\n",
       "      <td>5824</td>\n",
       "    </tr>\n",
       "    <tr>\n",
       "      <th>18</th>\n",
       "      <td>WEEKDAYS_APPLY</td>\n",
       "      <td>object</td>\n",
       "      <td>0</td>\n",
       "      <td>0.00</td>\n",
       "      <td>7</td>\n",
       "    </tr>\n",
       "    <tr>\n",
       "      <th>19</th>\n",
       "      <td>HOUR_APPLY</td>\n",
       "      <td>int64</td>\n",
       "      <td>0</td>\n",
       "      <td>0.00</td>\n",
       "      <td>24</td>\n",
       "    </tr>\n",
       "    <tr>\n",
       "      <th>20</th>\n",
       "      <td>ORGANIZATION_TYPE</td>\n",
       "      <td>object</td>\n",
       "      <td>0</td>\n",
       "      <td>0.00</td>\n",
       "      <td>58</td>\n",
       "    </tr>\n",
       "    <tr>\n",
       "      <th>21</th>\n",
       "      <td>EXT_SCORE_1</td>\n",
       "      <td>float64</td>\n",
       "      <td>34845</td>\n",
       "      <td>56.66</td>\n",
       "      <td>25814</td>\n",
       "    </tr>\n",
       "    <tr>\n",
       "      <th>22</th>\n",
       "      <td>EXT_SCORE_2</td>\n",
       "      <td>float64</td>\n",
       "      <td>134</td>\n",
       "      <td>0.22</td>\n",
       "      <td>46296</td>\n",
       "    </tr>\n",
       "    <tr>\n",
       "      <th>23</th>\n",
       "      <td>EXT_SCORE_3</td>\n",
       "      <td>float64</td>\n",
       "      <td>12239</td>\n",
       "      <td>19.90</td>\n",
       "      <td>744</td>\n",
       "    </tr>\n",
       "  </tbody>\n",
       "</table>\n",
       "</div>"
      ],
      "text/plain": [
       "             Features DataType   Null  NullPercentage  Unique\n",
       "0          Unnamed: 0    int64      0            0.00   61503\n",
       "1               LN_ID    int64      0            0.00   61503\n",
       "2              TARGET    int64      0            0.00       2\n",
       "3       CONTRACT_TYPE   object      0            0.00       2\n",
       "4              GENDER   object      0            0.00       2\n",
       "5        NUM_CHILDREN    int64      0            0.00      10\n",
       "6              INCOME  float64      0            0.00     861\n",
       "7     APPROVED_CREDIT  float64      0            0.00    3562\n",
       "8             ANNUITY  float64      1            0.00    9374\n",
       "9               PRICE  float64     62            0.10     541\n",
       "10        INCOME_TYPE   object      0            0.00       7\n",
       "11          EDUCATION   object      0            0.00       5\n",
       "12      FAMILY_STATUS   object      0            0.00       5\n",
       "13       HOUSING_TYPE   object      0            0.00       6\n",
       "14           DAYS_AGE    int64      0            0.00   16257\n",
       "15          DAYS_WORK    int64      0            0.00    8524\n",
       "16  DAYS_REGISTRATION  float64      0            0.00   13153\n",
       "17     DAYS_ID_CHANGE    int64      0            0.00    5824\n",
       "18     WEEKDAYS_APPLY   object      0            0.00       7\n",
       "19         HOUR_APPLY    int64      0            0.00      24\n",
       "20  ORGANIZATION_TYPE   object      0            0.00      58\n",
       "21        EXT_SCORE_1  float64  34845           56.66   25814\n",
       "22        EXT_SCORE_2  float64    134            0.22   46296\n",
       "23        EXT_SCORE_3  float64  12239           19.90     744"
      ]
     },
     "execution_count": 4,
     "metadata": {},
     "output_type": "execute_result"
    }
   ],
   "source": [
    "Dataset = []\n",
    "for i in df.columns :\n",
    "    Dataset.append([\n",
    "        i,\n",
    "        df[i].dtypes,\n",
    "        df[i].isna().sum(),\n",
    "        round((df[i].isna().sum()/len(df))*100,2),\n",
    "        df[i].nunique()\n",
    "    ])\n",
    "pd.DataFrame(data = Dataset,\n",
    "            columns=[\n",
    "                'Features',\n",
    "                'DataType',\n",
    "                'Null',\n",
    "                'NullPercentage',\n",
    "                'Unique'\n",
    "            ])"
   ]
  },
  {
   "cell_type": "markdown",
   "id": "5c76b478",
   "metadata": {},
   "source": [
    "# data wrangling\n",
    "melakukan pengolahan data"
   ]
  },
  {
   "cell_type": "code",
   "execution_count": 5,
   "id": "169b20d7",
   "metadata": {},
   "outputs": [
    {
     "data": {
      "text/plain": [
       "Unnamed: 0               0\n",
       "LN_ID                    0\n",
       "TARGET                   0\n",
       "CONTRACT_TYPE            0\n",
       "GENDER                   0\n",
       "NUM_CHILDREN             0\n",
       "INCOME                   0\n",
       "APPROVED_CREDIT          0\n",
       "ANNUITY                  1\n",
       "PRICE                   62\n",
       "INCOME_TYPE              0\n",
       "EDUCATION                0\n",
       "FAMILY_STATUS            0\n",
       "HOUSING_TYPE             0\n",
       "DAYS_AGE                 0\n",
       "DAYS_WORK                0\n",
       "DAYS_REGISTRATION        0\n",
       "DAYS_ID_CHANGE           0\n",
       "WEEKDAYS_APPLY           0\n",
       "HOUR_APPLY               0\n",
       "ORGANIZATION_TYPE        0\n",
       "EXT_SCORE_1          34845\n",
       "EXT_SCORE_2            134\n",
       "EXT_SCORE_3          12239\n",
       "dtype: int64"
      ]
     },
     "execution_count": 5,
     "metadata": {},
     "output_type": "execute_result"
    }
   ],
   "source": [
    "df.isna().sum()"
   ]
  },
  {
   "cell_type": "code",
   "execution_count": 6,
   "id": "b0c2886c",
   "metadata": {},
   "outputs": [],
   "source": [
    "df.dropna(subset=['ANNUITY','PRICE'],inplace=True)"
   ]
  },
  {
   "cell_type": "markdown",
   "id": "63fed195",
   "metadata": {},
   "source": [
    "isi kolom annuity dan price yang missing di hapus karena persentase missingnya yang kecil"
   ]
  },
  {
   "cell_type": "code",
   "execution_count": 7,
   "id": "fb3b4f62",
   "metadata": {},
   "outputs": [
    {
     "data": {
      "text/plain": [
       "Unnamed: 0               0\n",
       "LN_ID                    0\n",
       "TARGET                   0\n",
       "CONTRACT_TYPE            0\n",
       "GENDER                   0\n",
       "NUM_CHILDREN             0\n",
       "INCOME                   0\n",
       "APPROVED_CREDIT          0\n",
       "ANNUITY                  0\n",
       "PRICE                    0\n",
       "INCOME_TYPE              0\n",
       "EDUCATION                0\n",
       "FAMILY_STATUS            0\n",
       "HOUSING_TYPE             0\n",
       "DAYS_AGE                 0\n",
       "DAYS_WORK                0\n",
       "DAYS_REGISTRATION        0\n",
       "DAYS_ID_CHANGE           0\n",
       "WEEKDAYS_APPLY           0\n",
       "HOUR_APPLY               0\n",
       "ORGANIZATION_TYPE        0\n",
       "EXT_SCORE_1          34818\n",
       "EXT_SCORE_2            134\n",
       "EXT_SCORE_3          12225\n",
       "dtype: int64"
      ]
     },
     "execution_count": 7,
     "metadata": {},
     "output_type": "execute_result"
    }
   ],
   "source": [
    "df.isna().sum()"
   ]
  },
  {
   "cell_type": "markdown",
   "id": "816f8b9d",
   "metadata": {},
   "source": [
    "Kolom EXT_SCORE_1 di drop karena persentase missing valuenya 56% sedangkan kolom EXT_SCORE_2 dan EXT_SCORE_3 dilakukan imputasi data dengan menggunakan median karena data tidak berdistribusi secara normal"
   ]
  },
  {
   "cell_type": "code",
   "execution_count": 8,
   "id": "79cfde22",
   "metadata": {},
   "outputs": [],
   "source": [
    "df.drop(columns=['EXT_SCORE_1'], inplace=True)"
   ]
  },
  {
   "cell_type": "code",
   "execution_count": 9,
   "id": "e8e0b4e4",
   "metadata": {},
   "outputs": [
    {
     "data": {
      "text/plain": [
       "0.5659211374852824"
      ]
     },
     "execution_count": 9,
     "metadata": {},
     "output_type": "execute_result"
    }
   ],
   "source": [
    "df['EXT_SCORE_2'].quantile(0.5)"
   ]
  },
  {
   "cell_type": "code",
   "execution_count": 10,
   "id": "1ca5515b",
   "metadata": {},
   "outputs": [
    {
     "data": {
      "text/plain": [
       "<AxesSubplot:xlabel='EXT_SCORE_2', ylabel='Density'>"
      ]
     },
     "execution_count": 10,
     "metadata": {},
     "output_type": "execute_result"
    },
    {
     "data": {
      "image/png": "[encoded data removed]",
      "text/plain": [
       "<Figure size 432x288 with 1 Axes>"
      ]
     },
     "metadata": {
      "needs_background": "light"
     },
     "output_type": "display_data"
    }
   ],
   "source": [
    "sns.distplot(df['EXT_SCORE_2'])"
   ]
  },
  {
   "cell_type": "code",
   "execution_count": 11,
   "id": "80d77715",
   "metadata": {},
   "outputs": [
    {
     "name": "stdout",
     "output_type": "stream",
     "text": [
      "tolak Ho, data tidak berdistribusi normal\n"
     ]
    }
   ],
   "source": [
    "stat, p = st.jarque_bera(df['EXT_SCORE_2']) # uji normalitas untuk mengetahui data berdistribusi normal atau tidak\n",
    "if p>0.05:\n",
    "    print('terima Ho, data berdistribusi normal')\n",
    "else:\n",
    "    print('tolak Ho, data tidak berdistribusi normal')"
   ]
  },
  {
   "cell_type": "code",
   "execution_count": 12,
   "id": "8db092cc",
   "metadata": {},
   "outputs": [],
   "source": [
    "df['EXT_SCORE_2'].fillna(df['EXT_SCORE_2'].quantile(0.5), inplace= True) #imputasi missing value"
   ]
  },
  {
   "cell_type": "code",
   "execution_count": 13,
   "id": "12e937df",
   "metadata": {},
   "outputs": [
    {
     "data": {
      "text/plain": [
       "<AxesSubplot:xlabel='EXT_SCORE_3', ylabel='Density'>"
      ]
     },
     "execution_count": 13,
     "metadata": {},
     "output_type": "execute_result"
    },
    {
     "data": {
      "image/png": "[encoded data removed]",
      "text/plain": [
       "<Figure size 432x288 with 1 Axes>"
      ]
     },
     "metadata": {
      "needs_background": "light"
     },
     "output_type": "display_data"
    }
   ],
   "source": [
    "sns.distplot(df['EXT_SCORE_3'])"
   ]
  },
  {
   "cell_type": "code",
   "execution_count": 14,
   "id": "73f71317",
   "metadata": {},
   "outputs": [
    {
     "name": "stdout",
     "output_type": "stream",
     "text": [
      "tolak Ho, data tidak berdistribusi normal\n"
     ]
    }
   ],
   "source": [
    "stat, p = st.jarque_bera(df['EXT_SCORE_3']) # uji normalitas untuk mengetahui data berdistribusi normal atau tidak\n",
    "if p>0.05:\n",
    "    print('terima Ho, data berdistribusi normal')\n",
    "else:\n",
    "    print('tolak Ho, data tidak berdistribusi normal')"
   ]
  },
  {
   "cell_type": "code",
   "execution_count": 15,
   "id": "6b56b752",
   "metadata": {},
   "outputs": [],
   "source": [
    "df['EXT_SCORE_3'].fillna(df['EXT_SCORE_3'].quantile(0.5), inplace= True) #imputasi missing value"
   ]
  },
  {
   "cell_type": "markdown",
   "id": "cf4337b4",
   "metadata": {},
   "source": [
    "Mengecek duplikasi data"
   ]
  },
  {
   "cell_type": "code",
   "execution_count": 16,
   "id": "d1b2940d",
   "metadata": {},
   "outputs": [
    {
     "data": {
      "text/plain": [
       "False"
      ]
     },
     "execution_count": 16,
     "metadata": {},
     "output_type": "execute_result"
    }
   ],
   "source": [
    "df.duplicated().any()"
   ]
  },
  {
   "cell_type": "markdown",
   "id": "e8c39a77",
   "metadata": {},
   "source": [
    "# Feature Selection\n",
    "melakukan penghapusan kolom yang tidak berpengaruh pada target"
   ]
  },
  {
   "cell_type": "code",
   "execution_count": 17,
   "id": "eeff1775",
   "metadata": {},
   "outputs": [],
   "source": [
    "df.drop(columns=['Unnamed: 0', 'LN_ID', 'WEEKDAYS_APPLY', 'HOUR_APPLY', 'ORGANIZATION_TYPE'], inplace =True)"
   ]
  },
  {
   "cell_type": "code",
   "execution_count": 18,
   "id": "b5702aa8",
   "metadata": {},
   "outputs": [
    {
     "data": {
      "text/html": [
       "<div>\n",
       "<style scoped>\n",
       "    .dataframe tbody tr th:only-of-type {\n",
       "        vertical-align: middle;\n",
       "    }\n",
       "\n",
       "    .dataframe tbody tr th {\n",
       "        vertical-align: top;\n",
       "    }\n",
       "\n",
       "    .dataframe thead th {\n",
       "        text-align: right;\n",
       "    }\n",
       "</style>\n",
       "<table border=\"1\" class=\"dataframe\">\n",
       "  <thead>\n",
       "    <tr style=\"text-align: right;\">\n",
       "      <th></th>\n",
       "      <th>TARGET</th>\n",
       "      <th>CONTRACT_TYPE</th>\n",
       "      <th>GENDER</th>\n",
       "      <th>NUM_CHILDREN</th>\n",
       "      <th>INCOME</th>\n",
       "      <th>APPROVED_CREDIT</th>\n",
       "      <th>ANNUITY</th>\n",
       "      <th>PRICE</th>\n",
       "      <th>INCOME_TYPE</th>\n",
       "      <th>EDUCATION</th>\n",
       "      <th>FAMILY_STATUS</th>\n",
       "      <th>HOUSING_TYPE</th>\n",
       "      <th>DAYS_AGE</th>\n",
       "      <th>DAYS_WORK</th>\n",
       "      <th>DAYS_REGISTRATION</th>\n",
       "      <th>DAYS_ID_CHANGE</th>\n",
       "      <th>EXT_SCORE_2</th>\n",
       "      <th>EXT_SCORE_3</th>\n",
       "    </tr>\n",
       "  </thead>\n",
       "  <tbody>\n",
       "    <tr>\n",
       "      <th>0</th>\n",
       "      <td>0</td>\n",
       "      <td>Revolving loans</td>\n",
       "      <td>F</td>\n",
       "      <td>1</td>\n",
       "      <td>67500.0</td>\n",
       "      <td>202500.0</td>\n",
       "      <td>10125.0</td>\n",
       "      <td>202500.0</td>\n",
       "      <td>Working</td>\n",
       "      <td>Secondary / secondary special</td>\n",
       "      <td>Married</td>\n",
       "      <td>With parents</td>\n",
       "      <td>-11539</td>\n",
       "      <td>-921</td>\n",
       "      <td>-119.0</td>\n",
       "      <td>-2757</td>\n",
       "      <td>0.608276</td>\n",
       "      <td>0.535276</td>\n",
       "    </tr>\n",
       "    <tr>\n",
       "      <th>1</th>\n",
       "      <td>0</td>\n",
       "      <td>Cash loans</td>\n",
       "      <td>F</td>\n",
       "      <td>1</td>\n",
       "      <td>202500.0</td>\n",
       "      <td>976711.5</td>\n",
       "      <td>49869.0</td>\n",
       "      <td>873000.0</td>\n",
       "      <td>Commercial associate</td>\n",
       "      <td>Secondary / secondary special</td>\n",
       "      <td>Married</td>\n",
       "      <td>House / apartment</td>\n",
       "      <td>-15743</td>\n",
       "      <td>-4482</td>\n",
       "      <td>-1797.0</td>\n",
       "      <td>-2455</td>\n",
       "      <td>0.684298</td>\n",
       "      <td>0.535276</td>\n",
       "    </tr>\n",
       "    <tr>\n",
       "      <th>2</th>\n",
       "      <td>0</td>\n",
       "      <td>Cash loans</td>\n",
       "      <td>F</td>\n",
       "      <td>0</td>\n",
       "      <td>180000.0</td>\n",
       "      <td>407520.0</td>\n",
       "      <td>25060.5</td>\n",
       "      <td>360000.0</td>\n",
       "      <td>Pensioner</td>\n",
       "      <td>Secondary / secondary special</td>\n",
       "      <td>Married</td>\n",
       "      <td>House / apartment</td>\n",
       "      <td>-20775</td>\n",
       "      <td>365243</td>\n",
       "      <td>-8737.0</td>\n",
       "      <td>-4312</td>\n",
       "      <td>0.580687</td>\n",
       "      <td>0.749022</td>\n",
       "    </tr>\n",
       "    <tr>\n",
       "      <th>3</th>\n",
       "      <td>0</td>\n",
       "      <td>Cash loans</td>\n",
       "      <td>M</td>\n",
       "      <td>0</td>\n",
       "      <td>225000.0</td>\n",
       "      <td>808650.0</td>\n",
       "      <td>26086.5</td>\n",
       "      <td>675000.0</td>\n",
       "      <td>State servant</td>\n",
       "      <td>Higher education</td>\n",
       "      <td>Married</td>\n",
       "      <td>House / apartment</td>\n",
       "      <td>-20659</td>\n",
       "      <td>-10455</td>\n",
       "      <td>-4998.0</td>\n",
       "      <td>-4010</td>\n",
       "      <td>0.623740</td>\n",
       "      <td>0.710674</td>\n",
       "    </tr>\n",
       "    <tr>\n",
       "      <th>4</th>\n",
       "      <td>0</td>\n",
       "      <td>Revolving loans</td>\n",
       "      <td>M</td>\n",
       "      <td>0</td>\n",
       "      <td>135000.0</td>\n",
       "      <td>180000.0</td>\n",
       "      <td>9000.0</td>\n",
       "      <td>180000.0</td>\n",
       "      <td>Commercial associate</td>\n",
       "      <td>Secondary / secondary special</td>\n",
       "      <td>Single / not married</td>\n",
       "      <td>House / apartment</td>\n",
       "      <td>-9013</td>\n",
       "      <td>-1190</td>\n",
       "      <td>-3524.0</td>\n",
       "      <td>-1644</td>\n",
       "      <td>0.492994</td>\n",
       "      <td>0.085595</td>\n",
       "    </tr>\n",
       "  </tbody>\n",
       "</table>\n",
       "</div>"
      ],
      "text/plain": [
       "   TARGET    CONTRACT_TYPE GENDER  NUM_CHILDREN    INCOME  APPROVED_CREDIT  \\\n",
       "0       0  Revolving loans      F             1   67500.0         202500.0   \n",
       "1       0       Cash loans      F             1  202500.0         976711.5   \n",
       "2       0       Cash loans      F             0  180000.0         407520.0   \n",
       "3       0       Cash loans      M             0  225000.0         808650.0   \n",
       "4       0  Revolving loans      M             0  135000.0         180000.0   \n",
       "\n",
       "   ANNUITY     PRICE           INCOME_TYPE                      EDUCATION  \\\n",
       "0  10125.0  202500.0               Working  Secondary / secondary special   \n",
       "1  49869.0  873000.0  Commercial associate  Secondary / secondary special   \n",
       "2  25060.5  360000.0             Pensioner  Secondary / secondary special   \n",
       "3  26086.5  675000.0         State servant               Higher education   \n",
       "4   9000.0  180000.0  Commercial associate  Secondary / secondary special   \n",
       "\n",
       "          FAMILY_STATUS       HOUSING_TYPE  DAYS_AGE  DAYS_WORK  \\\n",
       "0               Married       With parents    -11539       -921   \n",
       "1               Married  House / apartment    -15743      -4482   \n",
       "2               Married  House / apartment    -20775     365243   \n",
       "3               Married  House / apartment    -20659     -10455   \n",
       "4  Single / not married  House / apartment     -9013      -1190   \n",
       "\n",
       "   DAYS_REGISTRATION  DAYS_ID_CHANGE  EXT_SCORE_2  EXT_SCORE_3  \n",
       "0             -119.0           -2757     0.608276     0.535276  \n",
       "1            -1797.0           -2455     0.684298     0.535276  \n",
       "2            -8737.0           -4312     0.580687     0.749022  \n",
       "3            -4998.0           -4010     0.623740     0.710674  \n",
       "4            -3524.0           -1644     0.492994     0.085595  "
      ]
     },
     "execution_count": 18,
     "metadata": {},
     "output_type": "execute_result"
    }
   ],
   "source": [
    "df.head()"
   ]
  },
  {
   "cell_type": "markdown",
   "id": "5b1d5d9c",
   "metadata": {},
   "source": [
    "Mengetahui korelasi dari setiap kolom numerikal"
   ]
  },
  {
   "cell_type": "code",
   "execution_count": 19,
   "id": "12f02ad0",
   "metadata": {},
   "outputs": [
    {
     "data": {
      "image/png": "[encoded data removed]",
      "text/plain": [
       "<Figure size 720x720 with 2 Axes>"
      ]
     },
     "metadata": {
      "needs_background": "light"
     },
     "output_type": "display_data"
    }
   ],
   "source": [
    "plt.figure(figsize=(10,10))\n",
    "sns.heatmap(df.corr('spearman'), annot = True)\n",
    "plt.show()"
   ]
  },
  {
   "cell_type": "markdown",
   "id": "474f80b6",
   "metadata": {},
   "source": [
    "Mengetahui korelasi dari setiap kolom kategorikal dengan target"
   ]
  },
  {
   "cell_type": "code",
   "execution_count": 20,
   "id": "0bae15c6",
   "metadata": {},
   "outputs": [],
   "source": [
    "import dython"
   ]
  },
  {
   "cell_type": "code",
   "execution_count": 21,
   "id": "18b79dce",
   "metadata": {},
   "outputs": [],
   "source": [
    "from dython.nominal import correlation_ratio"
   ]
  },
  {
   "cell_type": "code",
   "execution_count": 22,
   "id": "2e49e23c",
   "metadata": {},
   "outputs": [],
   "source": [
    "col = df.columns[df.dtypes == 'object']"
   ]
  },
  {
   "cell_type": "code",
   "execution_count": 23,
   "id": "f25fa8ef",
   "metadata": {},
   "outputs": [],
   "source": [
    "ratio_2 = []\n",
    "\n",
    "for i in col:\n",
    "    corr = round(correlation_ratio(df[i], df['TARGET']), 2)\n",
    "    ratio_2.append(corr)"
   ]
  },
  {
   "cell_type": "code",
   "execution_count": 24,
   "id": "54562cf4",
   "metadata": {},
   "outputs": [],
   "source": [
    "df_cr_ratio_2 = pd.DataFrame(data = [ratio_2], columns = col, index=['TARGET'])"
   ]
  },
  {
   "cell_type": "code",
   "execution_count": 25,
   "id": "ad0c9fa9",
   "metadata": {},
   "outputs": [
    {
     "data": {
      "text/plain": [
       "<AxesSubplot:>"
      ]
     },
     "execution_count": 25,
     "metadata": {},
     "output_type": "execute_result"
    },
    {
     "data": {
      "image/png": "[encoded data removed]",
      "text/plain": [
       "<Figure size 1440x72 with 1 Axes>"
      ]
     },
     "metadata": {
      "needs_background": "light"
     },
     "output_type": "display_data"
    }
   ],
   "source": [
    "plt.figure(figsize=(20,1))\n",
    "sns.heatmap(df_cr_ratio_2, annot=True, cbar =False)"
   ]
  },
  {
   "cell_type": "markdown",
   "id": "24bb15c5",
   "metadata": {},
   "source": [
    "Dikarenakan korelasi dari kolom target terhadap kolom numerikal dan kategorikal rendah sehingga feature selection tidak dapat dilakukan dengan menggunakan korelasi"
   ]
  },
  {
   "cell_type": "markdown",
   "id": "40f9f5b6",
   "metadata": {},
   "source": [
    "# Feature Engineering\n"
   ]
  },
  {
   "cell_type": "markdown",
   "id": "749f3e15",
   "metadata": {},
   "source": [
    "Encoding data kategorikal"
   ]
  },
  {
   "cell_type": "code",
   "execution_count": 26,
   "id": "bc5a6a5b",
   "metadata": {},
   "outputs": [
    {
     "data": {
      "text/html": [
       "<div>\n",
       "<style scoped>\n",
       "    .dataframe tbody tr th:only-of-type {\n",
       "        vertical-align: middle;\n",
       "    }\n",
       "\n",
       "    .dataframe tbody tr th {\n",
       "        vertical-align: top;\n",
       "    }\n",
       "\n",
       "    .dataframe thead th {\n",
       "        text-align: right;\n",
       "    }\n",
       "</style>\n",
       "<table border=\"1\" class=\"dataframe\">\n",
       "  <thead>\n",
       "    <tr style=\"text-align: right;\">\n",
       "      <th></th>\n",
       "      <th>CONTRACT_TYPE</th>\n",
       "      <th>GENDER</th>\n",
       "      <th>INCOME_TYPE</th>\n",
       "      <th>EDUCATION</th>\n",
       "      <th>FAMILY_STATUS</th>\n",
       "      <th>HOUSING_TYPE</th>\n",
       "    </tr>\n",
       "  </thead>\n",
       "  <tbody>\n",
       "    <tr>\n",
       "      <th>0</th>\n",
       "      <td>Revolving loans</td>\n",
       "      <td>F</td>\n",
       "      <td>Working</td>\n",
       "      <td>Secondary / secondary special</td>\n",
       "      <td>Married</td>\n",
       "      <td>With parents</td>\n",
       "    </tr>\n",
       "    <tr>\n",
       "      <th>1</th>\n",
       "      <td>Cash loans</td>\n",
       "      <td>F</td>\n",
       "      <td>Commercial associate</td>\n",
       "      <td>Secondary / secondary special</td>\n",
       "      <td>Married</td>\n",
       "      <td>House / apartment</td>\n",
       "    </tr>\n",
       "    <tr>\n",
       "      <th>2</th>\n",
       "      <td>Cash loans</td>\n",
       "      <td>F</td>\n",
       "      <td>Pensioner</td>\n",
       "      <td>Secondary / secondary special</td>\n",
       "      <td>Married</td>\n",
       "      <td>House / apartment</td>\n",
       "    </tr>\n",
       "    <tr>\n",
       "      <th>3</th>\n",
       "      <td>Cash loans</td>\n",
       "      <td>M</td>\n",
       "      <td>State servant</td>\n",
       "      <td>Higher education</td>\n",
       "      <td>Married</td>\n",
       "      <td>House / apartment</td>\n",
       "    </tr>\n",
       "    <tr>\n",
       "      <th>4</th>\n",
       "      <td>Revolving loans</td>\n",
       "      <td>M</td>\n",
       "      <td>Commercial associate</td>\n",
       "      <td>Secondary / secondary special</td>\n",
       "      <td>Single / not married</td>\n",
       "      <td>House / apartment</td>\n",
       "    </tr>\n",
       "  </tbody>\n",
       "</table>\n",
       "</div>"
      ],
      "text/plain": [
       "     CONTRACT_TYPE GENDER           INCOME_TYPE  \\\n",
       "0  Revolving loans      F               Working   \n",
       "1       Cash loans      F  Commercial associate   \n",
       "2       Cash loans      F             Pensioner   \n",
       "3       Cash loans      M         State servant   \n",
       "4  Revolving loans      M  Commercial associate   \n",
       "\n",
       "                       EDUCATION         FAMILY_STATUS       HOUSING_TYPE  \n",
       "0  Secondary / secondary special               Married       With parents  \n",
       "1  Secondary / secondary special               Married  House / apartment  \n",
       "2  Secondary / secondary special               Married  House / apartment  \n",
       "3               Higher education               Married  House / apartment  \n",
       "4  Secondary / secondary special  Single / not married  House / apartment  "
      ]
     },
     "execution_count": 26,
     "metadata": {},
     "output_type": "execute_result"
    }
   ],
   "source": [
    "df.select_dtypes('object').head()"
   ]
  },
  {
   "cell_type": "markdown",
   "id": "94cfc26c",
   "metadata": {},
   "source": [
    "Encoding kolom tipe kontrak menjadi binary encoding"
   ]
  },
  {
   "cell_type": "code",
   "execution_count": 27,
   "id": "20d47e05",
   "metadata": {},
   "outputs": [
    {
     "data": {
      "text/plain": [
       "Cash loans         55698\n",
       "Revolving loans     5742\n",
       "Name: CONTRACT_TYPE, dtype: int64"
      ]
     },
     "execution_count": 27,
     "metadata": {},
     "output_type": "execute_result"
    }
   ],
   "source": [
    "df['CONTRACT_TYPE'].value_counts()"
   ]
  },
  {
   "cell_type": "code",
   "execution_count": 28,
   "id": "f592d5d1",
   "metadata": {},
   "outputs": [],
   "source": [
    "def contract_type_change(x):\n",
    "    if x == 'Cash loans':\n",
    "        return 1\n",
    "    else :\n",
    "        return 0"
   ]
  },
  {
   "cell_type": "code",
   "execution_count": 29,
   "id": "c7ca642d",
   "metadata": {},
   "outputs": [],
   "source": [
    "df['CONTRACT_TYPE'] = df['CONTRACT_TYPE'].apply(contract_type_change)"
   ]
  },
  {
   "cell_type": "markdown",
   "id": "7d527073",
   "metadata": {},
   "source": [
    "Encoding kolom gender menjadi binary encoding"
   ]
  },
  {
   "cell_type": "code",
   "execution_count": 30,
   "id": "1a32097b",
   "metadata": {},
   "outputs": [
    {
     "data": {
      "text/plain": [
       "F    40502\n",
       "M    20938\n",
       "Name: GENDER, dtype: int64"
      ]
     },
     "execution_count": 30,
     "metadata": {},
     "output_type": "execute_result"
    }
   ],
   "source": [
    "df['GENDER'].value_counts()"
   ]
  },
  {
   "cell_type": "code",
   "execution_count": 31,
   "id": "7fd70017",
   "metadata": {},
   "outputs": [],
   "source": [
    "def gender_change(x):\n",
    "    if x == 'M':\n",
    "        return 1\n",
    "    else :\n",
    "        return 0\n",
    "    "
   ]
  },
  {
   "cell_type": "code",
   "execution_count": 32,
   "id": "ad94e83a",
   "metadata": {},
   "outputs": [],
   "source": [
    "df['GENDER'] = df['GENDER'].apply(gender_change)"
   ]
  },
  {
   "cell_type": "markdown",
   "id": "16c00fef",
   "metadata": {},
   "source": [
    "Encoding kolom income_type menjadi one hot encoding"
   ]
  },
  {
   "cell_type": "code",
   "execution_count": 33,
   "id": "88df0e13",
   "metadata": {},
   "outputs": [
    {
     "data": {
      "text/plain": [
       "Working                 31576\n",
       "Commercial associate    14208\n",
       "Pensioner               11244\n",
       "State servant            4403\n",
       "Unemployed                  5\n",
       "Student                     3\n",
       "Businessman                 1\n",
       "Name: INCOME_TYPE, dtype: int64"
      ]
     },
     "execution_count": 33,
     "metadata": {},
     "output_type": "execute_result"
    }
   ],
   "source": [
    "df['INCOME_TYPE'].value_counts()"
   ]
  },
  {
   "cell_type": "code",
   "execution_count": 34,
   "id": "4c6dc94a",
   "metadata": {},
   "outputs": [],
   "source": [
    "def income_type_change(x):\n",
    "    if x == 'Commercial associate':\n",
    "        return 'wirausaha'\n",
    "    elif x == 'Businessman':\n",
    "        return 'wirausaha'\n",
    "    elif x == 'Unemployed':\n",
    "        return 'Unemployed'\n",
    "    elif x == 'Student' :\n",
    "        return 'Unemployed'\n",
    "    elif x == 'Working' :\n",
    "        return 'Pegawai swasta'\n",
    "    elif x == 'State servant':\n",
    "        return 'PNS'\n",
    "    else :\n",
    "        return 'Pensioner'"
   ]
  },
  {
   "cell_type": "code",
   "execution_count": 35,
   "id": "73602d8b",
   "metadata": {},
   "outputs": [],
   "source": [
    "df['INCOME_TYPE']= df['INCOME_TYPE'].apply(income_type_change)"
   ]
  },
  {
   "cell_type": "code",
   "execution_count": 36,
   "id": "4fc69038",
   "metadata": {},
   "outputs": [],
   "source": [
    "df = pd.get_dummies(df, columns=['INCOME_TYPE'])"
   ]
  },
  {
   "cell_type": "markdown",
   "id": "17b3fd29",
   "metadata": {},
   "source": [
    "Encoding kolom education menjadi label encoding"
   ]
  },
  {
   "cell_type": "code",
   "execution_count": 37,
   "id": "c835569a",
   "metadata": {},
   "outputs": [
    {
     "data": {
      "text/plain": [
       "Secondary / secondary special    43734\n",
       "Higher education                 14875\n",
       "Incomplete higher                 2039\n",
       "Lower secondary                    758\n",
       "Academic degree                     34\n",
       "Name: EDUCATION, dtype: int64"
      ]
     },
     "execution_count": 37,
     "metadata": {},
     "output_type": "execute_result"
    }
   ],
   "source": [
    "df['EDUCATION'].value_counts()"
   ]
  },
  {
   "cell_type": "code",
   "execution_count": 38,
   "id": "e5633edf",
   "metadata": {},
   "outputs": [],
   "source": [
    "def education_change(x):\n",
    "    if x == 'Lower secondary':\n",
    "        return 0\n",
    "    elif x == 'Secondary / secondary special':\n",
    "        return 1\n",
    "    elif x == 'Academic degree':\n",
    "        return 2\n",
    "    elif x == 'Incomplete higher':\n",
    "        return 3\n",
    "    else :\n",
    "        return 4\n",
    "df['EDUCATION'] = df['EDUCATION'].apply(education_change)"
   ]
  },
  {
   "cell_type": "markdown",
   "id": "905855f0",
   "metadata": {},
   "source": [
    "Encoding kolom family status menjadi one hot encoding"
   ]
  },
  {
   "cell_type": "code",
   "execution_count": 39,
   "id": "c49e955f",
   "metadata": {},
   "outputs": [
    {
     "data": {
      "text/plain": [
       "Married                 39332\n",
       "Single / not married     9016\n",
       "Civil marriage           5873\n",
       "Separated                3968\n",
       "Widow                    3251\n",
       "Name: FAMILY_STATUS, dtype: int64"
      ]
     },
     "execution_count": 39,
     "metadata": {},
     "output_type": "execute_result"
    }
   ],
   "source": [
    "df['FAMILY_STATUS'].value_counts()"
   ]
  },
  {
   "cell_type": "code",
   "execution_count": 40,
   "id": "1e992a6d",
   "metadata": {},
   "outputs": [],
   "source": [
    "def family_status_change(x):\n",
    "    if x== 'Married':\n",
    "        return 'Married'\n",
    "    elif x== 'Single / not married':\n",
    "        return 'Single / not married'\n",
    "    elif x== 'Civil marriage':\n",
    "        return 'Married'\n",
    "    elif x== 'Separated':\n",
    "        return 'Separated'\n",
    "    elif x == 'Widow':\n",
    "        return 'Separated'\n",
    "df['FAMILY_STATUS'] = df['FAMILY_STATUS'].apply(family_status_change)    "
   ]
  },
  {
   "cell_type": "code",
   "execution_count": 41,
   "id": "efd38aca",
   "metadata": {},
   "outputs": [],
   "source": [
    "df = pd.get_dummies(df, columns=['FAMILY_STATUS'])"
   ]
  },
  {
   "cell_type": "markdown",
   "id": "5d78de31",
   "metadata": {},
   "source": [
    "Encoding kolom housing type menjadi one hot encoding"
   ]
  },
  {
   "cell_type": "code",
   "execution_count": 42,
   "id": "984ee68d",
   "metadata": {},
   "outputs": [
    {
     "data": {
      "text/plain": [
       "House / apartment      54599\n",
       "With parents            2885\n",
       "Municipal apartment     2199\n",
       "Rented apartment         985\n",
       "Office apartment         534\n",
       "Co-op apartment          238\n",
       "Name: HOUSING_TYPE, dtype: int64"
      ]
     },
     "execution_count": 42,
     "metadata": {},
     "output_type": "execute_result"
    }
   ],
   "source": [
    "df['HOUSING_TYPE'].value_counts()"
   ]
  },
  {
   "cell_type": "code",
   "execution_count": 43,
   "id": "b3e66988",
   "metadata": {},
   "outputs": [],
   "source": [
    "df = pd.get_dummies(df, columns=['HOUSING_TYPE'])"
   ]
  },
  {
   "cell_type": "markdown",
   "id": "1e95ec72",
   "metadata": {},
   "source": [
    "pengecekan imbalance data dari kolom target"
   ]
  },
  {
   "cell_type": "code",
   "execution_count": 44,
   "id": "5bcedfb4",
   "metadata": {},
   "outputs": [
    {
     "data": {
      "text/html": [
       "<div>\n",
       "<style scoped>\n",
       "    .dataframe tbody tr th:only-of-type {\n",
       "        vertical-align: middle;\n",
       "    }\n",
       "\n",
       "    .dataframe tbody tr th {\n",
       "        vertical-align: top;\n",
       "    }\n",
       "\n",
       "    .dataframe thead th {\n",
       "        text-align: right;\n",
       "    }\n",
       "</style>\n",
       "<table border=\"1\" class=\"dataframe\">\n",
       "  <thead>\n",
       "    <tr style=\"text-align: right;\">\n",
       "      <th>col_0</th>\n",
       "      <th>count</th>\n",
       "    </tr>\n",
       "    <tr>\n",
       "      <th>TARGET</th>\n",
       "      <th></th>\n",
       "    </tr>\n",
       "  </thead>\n",
       "  <tbody>\n",
       "    <tr>\n",
       "      <th>0</th>\n",
       "      <td>91.92</td>\n",
       "    </tr>\n",
       "    <tr>\n",
       "      <th>1</th>\n",
       "      <td>8.08</td>\n",
       "    </tr>\n",
       "  </tbody>\n",
       "</table>\n",
       "</div>"
      ],
      "text/plain": [
       "col_0   count\n",
       "TARGET       \n",
       "0       91.92\n",
       "1        8.08"
      ]
     },
     "execution_count": 44,
     "metadata": {},
     "output_type": "execute_result"
    }
   ],
   "source": [
    "round(pd.crosstab(df['TARGET'], columns='count', normalize=True)*100, 2)"
   ]
  },
  {
   "cell_type": "markdown",
   "id": "b2639b20",
   "metadata": {},
   "source": [
    "adanya imbalance data dari kolom target dikarenakan persentase data pinjaman lebih dari waktu yang ditentukan hanya berjumlah sebesar 8%. Dikarenakan adanya imbalance data maka dilakukan undersampling dan oversampling dari data"
   ]
  },
  {
   "cell_type": "markdown",
   "id": "88796005",
   "metadata": {},
   "source": [
    "## Model - Fraud Detection\n",
    "- class 0 - Non Fraud (Negatif)\n",
    "- Class 1 - fraud(positif)\n",
    "- yang akan dihindari - diminimalisir adalah Error **False Negatif** -- **Aktual Fraud** tetapi diprediksi **non fraud**\n",
    "- semakin tinggi nilai recall semakin rendah false negatif\n",
    "- berarti model akan berfokus di recall"
   ]
  },
  {
   "cell_type": "code",
   "execution_count": 45,
   "id": "d036bd82",
   "metadata": {},
   "outputs": [],
   "source": [
    "# Model akan berfokus di Recall Class 1 (recall positiif)"
   ]
  },
  {
   "cell_type": "markdown",
   "id": "72a9fdc6",
   "metadata": {},
   "source": [
    "# Machine Learning Logistic Regression"
   ]
  },
  {
   "cell_type": "code",
   "execution_count": 46,
   "id": "2b21d146",
   "metadata": {},
   "outputs": [],
   "source": [
    "from sklearn.model_selection import train_test_split\n",
    "from sklearn.linear_model import LogisticRegression\n",
    "from sklearn.metrics import accuracy_score, recall_score, precision_score, f1_score, confusion_matrix, classification_report"
   ]
  },
  {
   "cell_type": "code",
   "execution_count": 47,
   "id": "c374326e",
   "metadata": {},
   "outputs": [],
   "source": [
    "X = df.drop(columns=['TARGET'])\n",
    "y= df['TARGET']"
   ]
  },
  {
   "cell_type": "code",
   "execution_count": 48,
   "id": "dba1422b",
   "metadata": {},
   "outputs": [],
   "source": [
    "X_train, X_test, y_train, y_test = train_test_split(X, y, stratify = y, test_size = 0.2, random_state =42)"
   ]
  },
  {
   "cell_type": "code",
   "execution_count": 49,
   "id": "a697b946",
   "metadata": {},
   "outputs": [],
   "source": [
    "LR = LogisticRegression()"
   ]
  },
  {
   "cell_type": "code",
   "execution_count": 50,
   "id": "1a2a0b9a",
   "metadata": {},
   "outputs": [
    {
     "data": {
      "text/plain": [
       "LogisticRegression()"
      ]
     },
     "execution_count": 50,
     "metadata": {},
     "output_type": "execute_result"
    }
   ],
   "source": [
    "LR.fit(X_train, y_train)"
   ]
  },
  {
   "cell_type": "code",
   "execution_count": 51,
   "id": "29b7bf94",
   "metadata": {},
   "outputs": [],
   "source": [
    "def Eva_Matrix_Base_Class(model, X_train, X_test, y_train, y_test, Nama):\n",
    "    Model = model.fit(X_train, y_train)\n",
    "    y_pred_train = Model.predict(X_train)\n",
    "    Acc_train = accuracy_score(y_train, y_pred_train)\n",
    "    Rec_train = recall_score(y_train, y_pred_train)\n",
    "    Prec_train = precision_score(y_train, y_pred_train)\n",
    "    F1_train = f1_score(y_train, y_pred_train)\n",
    "    y_pred_test = Model.predict(X_test)\n",
    "    Acc_test = accuracy_score(y_test, y_pred_test)\n",
    "    Rec_test = recall_score(y_test, y_pred_test)\n",
    "    Prec_test = precision_score(y_test, y_pred_test)\n",
    "    F1_test = f1_score(y_test, y_pred_test)\n",
    "    data_LR = {\n",
    "    Nama + \"Training\" : [Acc_train, Rec_train, Prec_train, F1_train],\n",
    "    Nama + \"Testing\" : [Acc_test, Rec_test, Prec_test, F1_test]\n",
    "}\n",
    "\n",
    "    df = pd.DataFrame(data_LR, index=[\"Accuracy\", \"Recall\", \"Precision\", \"F1\"])\n",
    "    cr_tr = classification_report(y_train, y_pred_train)\n",
    "    cm_tr = confusion_matrix(y_train, y_pred_train, labels=[1, 0])\n",
    "    df_tr = pd.DataFrame(data = cm_tr, columns=['Pred 1', 'Pred 0'], index=['Akt 1', 'Akt 0'])\n",
    "    cr_ts = classification_report(y_test, y_pred_test)\n",
    "    cm_ts = confusion_matrix(y_test, y_pred_test, labels=[1, 0])\n",
    "    df_ts = pd.DataFrame(data = cm_ts, columns=['Pred 1', 'Pred 0'], index=['Akt 1', 'Akt 0'])\n",
    "    return df, cr_tr, df_tr, cr_ts, df_ts"
   ]
  },
  {
   "cell_type": "code",
   "execution_count": 52,
   "id": "26a65bc0",
   "metadata": {},
   "outputs": [],
   "source": [
    "df_LR, cr_LR_tr, cm_LR_tr, cr_LR_ts, cm_LR_ts = Eva_Matrix_Base_Class(LR, X_train, \n",
    "                                                                      X_test, \n",
    "                                                                      y_train, \n",
    "                                                                      y_test, \n",
    "                                                                      \"LR\")"
   ]
  },
  {
   "cell_type": "code",
   "execution_count": 53,
   "id": "60e43c6a",
   "metadata": {},
   "outputs": [
    {
     "data": {
      "text/html": [
       "<div>\n",
       "<style scoped>\n",
       "    .dataframe tbody tr th:only-of-type {\n",
       "        vertical-align: middle;\n",
       "    }\n",
       "\n",
       "    .dataframe tbody tr th {\n",
       "        vertical-align: top;\n",
       "    }\n",
       "\n",
       "    .dataframe thead th {\n",
       "        text-align: right;\n",
       "    }\n",
       "</style>\n",
       "<table border=\"1\" class=\"dataframe\">\n",
       "  <thead>\n",
       "    <tr style=\"text-align: right;\">\n",
       "      <th></th>\n",
       "      <th>LRTraining</th>\n",
       "      <th>LRTesting</th>\n",
       "    </tr>\n",
       "  </thead>\n",
       "  <tbody>\n",
       "    <tr>\n",
       "      <th>Accuracy</th>\n",
       "      <td>0.91923</td>\n",
       "      <td>0.919189</td>\n",
       "    </tr>\n",
       "    <tr>\n",
       "      <th>Recall</th>\n",
       "      <td>0.00000</td>\n",
       "      <td>0.000000</td>\n",
       "    </tr>\n",
       "    <tr>\n",
       "      <th>Precision</th>\n",
       "      <td>0.00000</td>\n",
       "      <td>0.000000</td>\n",
       "    </tr>\n",
       "    <tr>\n",
       "      <th>F1</th>\n",
       "      <td>0.00000</td>\n",
       "      <td>0.000000</td>\n",
       "    </tr>\n",
       "  </tbody>\n",
       "</table>\n",
       "</div>"
      ],
      "text/plain": [
       "           LRTraining  LRTesting\n",
       "Accuracy      0.91923   0.919189\n",
       "Recall        0.00000   0.000000\n",
       "Precision     0.00000   0.000000\n",
       "F1            0.00000   0.000000"
      ]
     },
     "execution_count": 53,
     "metadata": {},
     "output_type": "execute_result"
    }
   ],
   "source": [
    "df_LR"
   ]
  },
  {
   "cell_type": "code",
   "execution_count": 54,
   "id": "e20fa7ec",
   "metadata": {},
   "outputs": [
    {
     "name": "stdout",
     "output_type": "stream",
     "text": [
      "              precision    recall  f1-score   support\n",
      "\n",
      "           0       0.92      1.00      0.96     45182\n",
      "           1       0.00      0.00      0.00      3970\n",
      "\n",
      "    accuracy                           0.92     49152\n",
      "   macro avg       0.46      0.50      0.48     49152\n",
      "weighted avg       0.84      0.92      0.88     49152\n",
      "\n"
     ]
    }
   ],
   "source": [
    "print(cr_LR_tr) "
   ]
  },
  {
   "cell_type": "code",
   "execution_count": 55,
   "id": "15fcd909",
   "metadata": {},
   "outputs": [
    {
     "name": "stdout",
     "output_type": "stream",
     "text": [
      "              precision    recall  f1-score   support\n",
      "\n",
      "           0       0.92      1.00      0.96     11295\n",
      "           1       0.00      0.00      0.00       993\n",
      "\n",
      "    accuracy                           0.92     12288\n",
      "   macro avg       0.46      0.50      0.48     12288\n",
      "weighted avg       0.84      0.92      0.88     12288\n",
      "\n"
     ]
    }
   ],
   "source": [
    "print(cr_LR_ts) #hasil recallnya masih cukup buruk"
   ]
  },
  {
   "cell_type": "code",
   "execution_count": 56,
   "id": "d807a491",
   "metadata": {},
   "outputs": [
    {
     "data": {
      "text/html": [
       "<div>\n",
       "<style scoped>\n",
       "    .dataframe tbody tr th:only-of-type {\n",
       "        vertical-align: middle;\n",
       "    }\n",
       "\n",
       "    .dataframe tbody tr th {\n",
       "        vertical-align: top;\n",
       "    }\n",
       "\n",
       "    .dataframe thead th {\n",
       "        text-align: right;\n",
       "    }\n",
       "</style>\n",
       "<table border=\"1\" class=\"dataframe\">\n",
       "  <thead>\n",
       "    <tr style=\"text-align: right;\">\n",
       "      <th></th>\n",
       "      <th>Pred 1</th>\n",
       "      <th>Pred 0</th>\n",
       "    </tr>\n",
       "  </thead>\n",
       "  <tbody>\n",
       "    <tr>\n",
       "      <th>Akt 1</th>\n",
       "      <td>0</td>\n",
       "      <td>3970</td>\n",
       "    </tr>\n",
       "    <tr>\n",
       "      <th>Akt 0</th>\n",
       "      <td>0</td>\n",
       "      <td>45182</td>\n",
       "    </tr>\n",
       "  </tbody>\n",
       "</table>\n",
       "</div>"
      ],
      "text/plain": [
       "       Pred 1  Pred 0\n",
       "Akt 1       0    3970\n",
       "Akt 0       0   45182"
      ]
     },
     "execution_count": 56,
     "metadata": {},
     "output_type": "execute_result"
    }
   ],
   "source": [
    " cm_LR_tr"
   ]
  },
  {
   "cell_type": "code",
   "execution_count": 57,
   "id": "85d03b6b",
   "metadata": {},
   "outputs": [
    {
     "data": {
      "text/html": [
       "<div>\n",
       "<style scoped>\n",
       "    .dataframe tbody tr th:only-of-type {\n",
       "        vertical-align: middle;\n",
       "    }\n",
       "\n",
       "    .dataframe tbody tr th {\n",
       "        vertical-align: top;\n",
       "    }\n",
       "\n",
       "    .dataframe thead th {\n",
       "        text-align: right;\n",
       "    }\n",
       "</style>\n",
       "<table border=\"1\" class=\"dataframe\">\n",
       "  <thead>\n",
       "    <tr style=\"text-align: right;\">\n",
       "      <th></th>\n",
       "      <th>Pred 1</th>\n",
       "      <th>Pred 0</th>\n",
       "    </tr>\n",
       "  </thead>\n",
       "  <tbody>\n",
       "    <tr>\n",
       "      <th>Akt 1</th>\n",
       "      <td>0</td>\n",
       "      <td>993</td>\n",
       "    </tr>\n",
       "    <tr>\n",
       "      <th>Akt 0</th>\n",
       "      <td>0</td>\n",
       "      <td>11295</td>\n",
       "    </tr>\n",
       "  </tbody>\n",
       "</table>\n",
       "</div>"
      ],
      "text/plain": [
       "       Pred 1  Pred 0\n",
       "Akt 1       0     993\n",
       "Akt 0       0   11295"
      ]
     },
     "execution_count": 57,
     "metadata": {},
     "output_type": "execute_result"
    }
   ],
   "source": [
    " cm_LR_ts"
   ]
  },
  {
   "cell_type": "markdown",
   "id": "1e6cc1dc",
   "metadata": {},
   "source": [
    "## Kesimpulan\n",
    "- recall dari data training dan data testing untuk kasus fraud masih sangat buruk dikarenakan hasilnya nol\n",
    "- Error atau false negatifnya masih sangat besar yang berarti mesin belum bisa mendeteksi peminjaman yang telat bayar (Fraud)"
   ]
  },
  {
   "cell_type": "markdown",
   "id": "465e6932",
   "metadata": {},
   "source": [
    "# Machine Learning Logistic Regression With Undersampling and oversampling"
   ]
  },
  {
   "cell_type": "markdown",
   "id": "88e60689",
   "metadata": {},
   "source": [
    "## 1. Logistic Regression with Over sampling"
   ]
  },
  {
   "cell_type": "code",
   "execution_count": 58,
   "id": "65f48f72",
   "metadata": {},
   "outputs": [],
   "source": [
    "from sklearn.utils import resample"
   ]
  },
  {
   "cell_type": "code",
   "execution_count": 59,
   "id": "2c8c3e12",
   "metadata": {},
   "outputs": [
    {
     "data": {
      "text/html": [
       "<div>\n",
       "<style scoped>\n",
       "    .dataframe tbody tr th:only-of-type {\n",
       "        vertical-align: middle;\n",
       "    }\n",
       "\n",
       "    .dataframe tbody tr th {\n",
       "        vertical-align: top;\n",
       "    }\n",
       "\n",
       "    .dataframe thead th {\n",
       "        text-align: right;\n",
       "    }\n",
       "</style>\n",
       "<table border=\"1\" class=\"dataframe\">\n",
       "  <thead>\n",
       "    <tr style=\"text-align: right;\">\n",
       "      <th></th>\n",
       "      <th>CONTRACT_TYPE</th>\n",
       "      <th>GENDER</th>\n",
       "      <th>NUM_CHILDREN</th>\n",
       "      <th>INCOME</th>\n",
       "      <th>APPROVED_CREDIT</th>\n",
       "      <th>ANNUITY</th>\n",
       "      <th>PRICE</th>\n",
       "      <th>EDUCATION</th>\n",
       "      <th>DAYS_AGE</th>\n",
       "      <th>DAYS_WORK</th>\n",
       "      <th>DAYS_REGISTRATION</th>\n",
       "      <th>DAYS_ID_CHANGE</th>\n",
       "      <th>EXT_SCORE_2</th>\n",
       "      <th>EXT_SCORE_3</th>\n",
       "      <th>INCOME_TYPE_PNS</th>\n",
       "      <th>INCOME_TYPE_Pegawai swasta</th>\n",
       "      <th>INCOME_TYPE_Pensioner</th>\n",
       "      <th>INCOME_TYPE_Unemployed</th>\n",
       "      <th>INCOME_TYPE_wirausaha</th>\n",
       "      <th>FAMILY_STATUS_Married</th>\n",
       "      <th>FAMILY_STATUS_Separated</th>\n",
       "      <th>FAMILY_STATUS_Single / not married</th>\n",
       "      <th>HOUSING_TYPE_Co-op apartment</th>\n",
       "      <th>HOUSING_TYPE_House / apartment</th>\n",
       "      <th>HOUSING_TYPE_Municipal apartment</th>\n",
       "      <th>HOUSING_TYPE_Office apartment</th>\n",
       "      <th>HOUSING_TYPE_Rented apartment</th>\n",
       "      <th>HOUSING_TYPE_With parents</th>\n",
       "      <th>TARGET</th>\n",
       "    </tr>\n",
       "  </thead>\n",
       "  <tbody>\n",
       "    <tr>\n",
       "      <th>32243</th>\n",
       "      <td>1</td>\n",
       "      <td>0</td>\n",
       "      <td>1</td>\n",
       "      <td>112500.0</td>\n",
       "      <td>135000.0</td>\n",
       "      <td>8626.5</td>\n",
       "      <td>135000.0</td>\n",
       "      <td>4</td>\n",
       "      <td>-12901</td>\n",
       "      <td>-1594</td>\n",
       "      <td>-4190.0</td>\n",
       "      <td>-1517</td>\n",
       "      <td>0.636117</td>\n",
       "      <td>0.479449</td>\n",
       "      <td>0</td>\n",
       "      <td>1</td>\n",
       "      <td>0</td>\n",
       "      <td>0</td>\n",
       "      <td>0</td>\n",
       "      <td>0</td>\n",
       "      <td>0</td>\n",
       "      <td>1</td>\n",
       "      <td>0</td>\n",
       "      <td>1</td>\n",
       "      <td>0</td>\n",
       "      <td>0</td>\n",
       "      <td>0</td>\n",
       "      <td>0</td>\n",
       "      <td>0</td>\n",
       "    </tr>\n",
       "    <tr>\n",
       "      <th>40395</th>\n",
       "      <td>0</td>\n",
       "      <td>0</td>\n",
       "      <td>0</td>\n",
       "      <td>103500.0</td>\n",
       "      <td>180000.0</td>\n",
       "      <td>9000.0</td>\n",
       "      <td>180000.0</td>\n",
       "      <td>1</td>\n",
       "      <td>-13402</td>\n",
       "      <td>-1300</td>\n",
       "      <td>-1120.0</td>\n",
       "      <td>-4672</td>\n",
       "      <td>0.217355</td>\n",
       "      <td>0.169429</td>\n",
       "      <td>0</td>\n",
       "      <td>1</td>\n",
       "      <td>0</td>\n",
       "      <td>0</td>\n",
       "      <td>0</td>\n",
       "      <td>0</td>\n",
       "      <td>0</td>\n",
       "      <td>1</td>\n",
       "      <td>0</td>\n",
       "      <td>1</td>\n",
       "      <td>0</td>\n",
       "      <td>0</td>\n",
       "      <td>0</td>\n",
       "      <td>0</td>\n",
       "      <td>0</td>\n",
       "    </tr>\n",
       "    <tr>\n",
       "      <th>41115</th>\n",
       "      <td>1</td>\n",
       "      <td>1</td>\n",
       "      <td>1</td>\n",
       "      <td>202500.0</td>\n",
       "      <td>1321902.0</td>\n",
       "      <td>42772.5</td>\n",
       "      <td>1035000.0</td>\n",
       "      <td>1</td>\n",
       "      <td>-15014</td>\n",
       "      <td>-1146</td>\n",
       "      <td>-9128.0</td>\n",
       "      <td>-4406</td>\n",
       "      <td>0.629868</td>\n",
       "      <td>0.665855</td>\n",
       "      <td>0</td>\n",
       "      <td>1</td>\n",
       "      <td>0</td>\n",
       "      <td>0</td>\n",
       "      <td>0</td>\n",
       "      <td>1</td>\n",
       "      <td>0</td>\n",
       "      <td>0</td>\n",
       "      <td>0</td>\n",
       "      <td>0</td>\n",
       "      <td>1</td>\n",
       "      <td>0</td>\n",
       "      <td>0</td>\n",
       "      <td>0</td>\n",
       "      <td>0</td>\n",
       "    </tr>\n",
       "    <tr>\n",
       "      <th>18088</th>\n",
       "      <td>1</td>\n",
       "      <td>1</td>\n",
       "      <td>0</td>\n",
       "      <td>215100.0</td>\n",
       "      <td>787086.0</td>\n",
       "      <td>25389.0</td>\n",
       "      <td>657000.0</td>\n",
       "      <td>1</td>\n",
       "      <td>-19175</td>\n",
       "      <td>-1285</td>\n",
       "      <td>-10933.0</td>\n",
       "      <td>-399</td>\n",
       "      <td>0.744191</td>\n",
       "      <td>0.576209</td>\n",
       "      <td>0</td>\n",
       "      <td>0</td>\n",
       "      <td>0</td>\n",
       "      <td>0</td>\n",
       "      <td>1</td>\n",
       "      <td>1</td>\n",
       "      <td>0</td>\n",
       "      <td>0</td>\n",
       "      <td>0</td>\n",
       "      <td>1</td>\n",
       "      <td>0</td>\n",
       "      <td>0</td>\n",
       "      <td>0</td>\n",
       "      <td>0</td>\n",
       "      <td>0</td>\n",
       "    </tr>\n",
       "    <tr>\n",
       "      <th>1271</th>\n",
       "      <td>1</td>\n",
       "      <td>1</td>\n",
       "      <td>0</td>\n",
       "      <td>135000.0</td>\n",
       "      <td>652500.0</td>\n",
       "      <td>21046.5</td>\n",
       "      <td>652500.0</td>\n",
       "      <td>1</td>\n",
       "      <td>-19049</td>\n",
       "      <td>-5733</td>\n",
       "      <td>-2541.0</td>\n",
       "      <td>-2563</td>\n",
       "      <td>0.438485</td>\n",
       "      <td>0.619528</td>\n",
       "      <td>0</td>\n",
       "      <td>1</td>\n",
       "      <td>0</td>\n",
       "      <td>0</td>\n",
       "      <td>0</td>\n",
       "      <td>1</td>\n",
       "      <td>0</td>\n",
       "      <td>0</td>\n",
       "      <td>0</td>\n",
       "      <td>1</td>\n",
       "      <td>0</td>\n",
       "      <td>0</td>\n",
       "      <td>0</td>\n",
       "      <td>0</td>\n",
       "      <td>0</td>\n",
       "    </tr>\n",
       "  </tbody>\n",
       "</table>\n",
       "</div>"
      ],
      "text/plain": [
       "       CONTRACT_TYPE  GENDER  NUM_CHILDREN    INCOME  APPROVED_CREDIT  \\\n",
       "32243              1       0             1  112500.0         135000.0   \n",
       "40395              0       0             0  103500.0         180000.0   \n",
       "41115              1       1             1  202500.0        1321902.0   \n",
       "18088              1       1             0  215100.0         787086.0   \n",
       "1271               1       1             0  135000.0         652500.0   \n",
       "\n",
       "       ANNUITY      PRICE  EDUCATION  DAYS_AGE  DAYS_WORK  DAYS_REGISTRATION  \\\n",
       "32243   8626.5   135000.0          4    -12901      -1594            -4190.0   \n",
       "40395   9000.0   180000.0          1    -13402      -1300            -1120.0   \n",
       "41115  42772.5  1035000.0          1    -15014      -1146            -9128.0   \n",
       "18088  25389.0   657000.0          1    -19175      -1285           -10933.0   \n",
       "1271   21046.5   652500.0          1    -19049      -5733            -2541.0   \n",
       "\n",
       "       DAYS_ID_CHANGE  EXT_SCORE_2  EXT_SCORE_3  INCOME_TYPE_PNS  \\\n",
       "32243           -1517     0.636117     0.479449                0   \n",
       "40395           -4672     0.217355     0.169429                0   \n",
       "41115           -4406     0.629868     0.665855                0   \n",
       "18088            -399     0.744191     0.576209                0   \n",
       "1271            -2563     0.438485     0.619528                0   \n",
       "\n",
       "       INCOME_TYPE_Pegawai swasta  INCOME_TYPE_Pensioner  \\\n",
       "32243                           1                      0   \n",
       "40395                           1                      0   \n",
       "41115                           1                      0   \n",
       "18088                           0                      0   \n",
       "1271                            1                      0   \n",
       "\n",
       "       INCOME_TYPE_Unemployed  INCOME_TYPE_wirausaha  FAMILY_STATUS_Married  \\\n",
       "32243                       0                      0                      0   \n",
       "40395                       0                      0                      0   \n",
       "41115                       0                      0                      1   \n",
       "18088                       0                      1                      1   \n",
       "1271                        0                      0                      1   \n",
       "\n",
       "       FAMILY_STATUS_Separated  FAMILY_STATUS_Single / not married  \\\n",
       "32243                        0                                   1   \n",
       "40395                        0                                   1   \n",
       "41115                        0                                   0   \n",
       "18088                        0                                   0   \n",
       "1271                         0                                   0   \n",
       "\n",
       "       HOUSING_TYPE_Co-op apartment  HOUSING_TYPE_House / apartment  \\\n",
       "32243                             0                               1   \n",
       "40395                             0                               1   \n",
       "41115                             0                               0   \n",
       "18088                             0                               1   \n",
       "1271                              0                               1   \n",
       "\n",
       "       HOUSING_TYPE_Municipal apartment  HOUSING_TYPE_Office apartment  \\\n",
       "32243                                 0                              0   \n",
       "40395                                 0                              0   \n",
       "41115                                 1                              0   \n",
       "18088                                 0                              0   \n",
       "1271                                  0                              0   \n",
       "\n",
       "       HOUSING_TYPE_Rented apartment  HOUSING_TYPE_With parents  TARGET  \n",
       "32243                              0                          0       0  \n",
       "40395                              0                          0       0  \n",
       "41115                              0                          0       0  \n",
       "18088                              0                          0       0  \n",
       "1271                               0                          0       0  "
      ]
     },
     "execution_count": 59,
     "metadata": {},
     "output_type": "execute_result"
    }
   ],
   "source": [
    "df_train = pd.concat([X_train, y_train], axis =1)\n",
    "df_train.head()"
   ]
  },
  {
   "cell_type": "code",
   "execution_count": 60,
   "id": "38954679",
   "metadata": {},
   "outputs": [
    {
     "data": {
      "text/plain": [
       "45182"
      ]
     },
     "execution_count": 60,
     "metadata": {},
     "output_type": "execute_result"
    }
   ],
   "source": [
    "non_fraud = df_train[df_train['TARGET']==0]\n",
    "len(non_fraud)"
   ]
  },
  {
   "cell_type": "code",
   "execution_count": 61,
   "id": "5e4c1cf2",
   "metadata": {},
   "outputs": [
    {
     "data": {
      "text/plain": [
       "3970"
      ]
     },
     "execution_count": 61,
     "metadata": {},
     "output_type": "execute_result"
    }
   ],
   "source": [
    "fraud= df_train[df_train['TARGET']==1]\n",
    "len(fraud)"
   ]
  },
  {
   "cell_type": "code",
   "execution_count": 62,
   "id": "d062dd0d",
   "metadata": {},
   "outputs": [],
   "source": [
    "fraud_oversample = resample(fraud, \n",
    "                           replace = True, \n",
    "                           n_samples = len(non_fraud),\n",
    "                            random_state =42\n",
    "                           )"
   ]
  },
  {
   "cell_type": "code",
   "execution_count": 63,
   "id": "3ad215b9",
   "metadata": {},
   "outputs": [
    {
     "data": {
      "text/html": [
       "<div>\n",
       "<style scoped>\n",
       "    .dataframe tbody tr th:only-of-type {\n",
       "        vertical-align: middle;\n",
       "    }\n",
       "\n",
       "    .dataframe tbody tr th {\n",
       "        vertical-align: top;\n",
       "    }\n",
       "\n",
       "    .dataframe thead th {\n",
       "        text-align: right;\n",
       "    }\n",
       "</style>\n",
       "<table border=\"1\" class=\"dataframe\">\n",
       "  <thead>\n",
       "    <tr style=\"text-align: right;\">\n",
       "      <th></th>\n",
       "      <th>CONTRACT_TYPE</th>\n",
       "      <th>GENDER</th>\n",
       "      <th>NUM_CHILDREN</th>\n",
       "      <th>INCOME</th>\n",
       "      <th>APPROVED_CREDIT</th>\n",
       "      <th>ANNUITY</th>\n",
       "      <th>PRICE</th>\n",
       "      <th>EDUCATION</th>\n",
       "      <th>DAYS_AGE</th>\n",
       "      <th>DAYS_WORK</th>\n",
       "      <th>DAYS_REGISTRATION</th>\n",
       "      <th>DAYS_ID_CHANGE</th>\n",
       "      <th>EXT_SCORE_2</th>\n",
       "      <th>EXT_SCORE_3</th>\n",
       "      <th>INCOME_TYPE_PNS</th>\n",
       "      <th>INCOME_TYPE_Pegawai swasta</th>\n",
       "      <th>INCOME_TYPE_Pensioner</th>\n",
       "      <th>INCOME_TYPE_Unemployed</th>\n",
       "      <th>INCOME_TYPE_wirausaha</th>\n",
       "      <th>FAMILY_STATUS_Married</th>\n",
       "      <th>FAMILY_STATUS_Separated</th>\n",
       "      <th>FAMILY_STATUS_Single / not married</th>\n",
       "      <th>HOUSING_TYPE_Co-op apartment</th>\n",
       "      <th>HOUSING_TYPE_House / apartment</th>\n",
       "      <th>HOUSING_TYPE_Municipal apartment</th>\n",
       "      <th>HOUSING_TYPE_Office apartment</th>\n",
       "      <th>HOUSING_TYPE_Rented apartment</th>\n",
       "      <th>HOUSING_TYPE_With parents</th>\n",
       "      <th>TARGET</th>\n",
       "    </tr>\n",
       "  </thead>\n",
       "  <tbody>\n",
       "    <tr>\n",
       "      <th>3780</th>\n",
       "      <td>1</td>\n",
       "      <td>1</td>\n",
       "      <td>0</td>\n",
       "      <td>157500.0</td>\n",
       "      <td>473760.0</td>\n",
       "      <td>53581.5</td>\n",
       "      <td>450000.0</td>\n",
       "      <td>1</td>\n",
       "      <td>-9638</td>\n",
       "      <td>-1186</td>\n",
       "      <td>-4433.0</td>\n",
       "      <td>-1754</td>\n",
       "      <td>0.780145</td>\n",
       "      <td>0.493863</td>\n",
       "      <td>0</td>\n",
       "      <td>0</td>\n",
       "      <td>0</td>\n",
       "      <td>0</td>\n",
       "      <td>1</td>\n",
       "      <td>1</td>\n",
       "      <td>0</td>\n",
       "      <td>0</td>\n",
       "      <td>0</td>\n",
       "      <td>1</td>\n",
       "      <td>0</td>\n",
       "      <td>0</td>\n",
       "      <td>0</td>\n",
       "      <td>0</td>\n",
       "      <td>1</td>\n",
       "    </tr>\n",
       "    <tr>\n",
       "      <th>6718</th>\n",
       "      <td>1</td>\n",
       "      <td>1</td>\n",
       "      <td>1</td>\n",
       "      <td>315000.0</td>\n",
       "      <td>640080.0</td>\n",
       "      <td>31261.5</td>\n",
       "      <td>450000.0</td>\n",
       "      <td>1</td>\n",
       "      <td>-15291</td>\n",
       "      <td>-1643</td>\n",
       "      <td>-7469.0</td>\n",
       "      <td>-2883</td>\n",
       "      <td>0.645223</td>\n",
       "      <td>0.151935</td>\n",
       "      <td>0</td>\n",
       "      <td>0</td>\n",
       "      <td>0</td>\n",
       "      <td>0</td>\n",
       "      <td>1</td>\n",
       "      <td>0</td>\n",
       "      <td>0</td>\n",
       "      <td>1</td>\n",
       "      <td>0</td>\n",
       "      <td>0</td>\n",
       "      <td>1</td>\n",
       "      <td>0</td>\n",
       "      <td>0</td>\n",
       "      <td>0</td>\n",
       "      <td>1</td>\n",
       "    </tr>\n",
       "    <tr>\n",
       "      <th>24196</th>\n",
       "      <td>1</td>\n",
       "      <td>1</td>\n",
       "      <td>0</td>\n",
       "      <td>180000.0</td>\n",
       "      <td>450000.0</td>\n",
       "      <td>21109.5</td>\n",
       "      <td>450000.0</td>\n",
       "      <td>1</td>\n",
       "      <td>-14258</td>\n",
       "      <td>-1544</td>\n",
       "      <td>-1898.0</td>\n",
       "      <td>-4986</td>\n",
       "      <td>0.471032</td>\n",
       "      <td>0.681706</td>\n",
       "      <td>0</td>\n",
       "      <td>1</td>\n",
       "      <td>0</td>\n",
       "      <td>0</td>\n",
       "      <td>0</td>\n",
       "      <td>1</td>\n",
       "      <td>0</td>\n",
       "      <td>0</td>\n",
       "      <td>0</td>\n",
       "      <td>1</td>\n",
       "      <td>0</td>\n",
       "      <td>0</td>\n",
       "      <td>0</td>\n",
       "      <td>0</td>\n",
       "      <td>1</td>\n",
       "    </tr>\n",
       "    <tr>\n",
       "      <th>28978</th>\n",
       "      <td>1</td>\n",
       "      <td>0</td>\n",
       "      <td>1</td>\n",
       "      <td>103500.0</td>\n",
       "      <td>430582.5</td>\n",
       "      <td>28903.5</td>\n",
       "      <td>355500.0</td>\n",
       "      <td>0</td>\n",
       "      <td>-12281</td>\n",
       "      <td>-1474</td>\n",
       "      <td>-2450.0</td>\n",
       "      <td>-1856</td>\n",
       "      <td>0.077646</td>\n",
       "      <td>0.461482</td>\n",
       "      <td>0</td>\n",
       "      <td>1</td>\n",
       "      <td>0</td>\n",
       "      <td>0</td>\n",
       "      <td>0</td>\n",
       "      <td>1</td>\n",
       "      <td>0</td>\n",
       "      <td>0</td>\n",
       "      <td>0</td>\n",
       "      <td>1</td>\n",
       "      <td>0</td>\n",
       "      <td>0</td>\n",
       "      <td>0</td>\n",
       "      <td>0</td>\n",
       "      <td>1</td>\n",
       "    </tr>\n",
       "    <tr>\n",
       "      <th>43299</th>\n",
       "      <td>1</td>\n",
       "      <td>0</td>\n",
       "      <td>0</td>\n",
       "      <td>247500.0</td>\n",
       "      <td>894249.0</td>\n",
       "      <td>32251.5</td>\n",
       "      <td>693000.0</td>\n",
       "      <td>1</td>\n",
       "      <td>-14200</td>\n",
       "      <td>-802</td>\n",
       "      <td>-1407.0</td>\n",
       "      <td>-3422</td>\n",
       "      <td>0.632719</td>\n",
       "      <td>0.056092</td>\n",
       "      <td>0</td>\n",
       "      <td>1</td>\n",
       "      <td>0</td>\n",
       "      <td>0</td>\n",
       "      <td>0</td>\n",
       "      <td>1</td>\n",
       "      <td>0</td>\n",
       "      <td>0</td>\n",
       "      <td>0</td>\n",
       "      <td>1</td>\n",
       "      <td>0</td>\n",
       "      <td>0</td>\n",
       "      <td>0</td>\n",
       "      <td>0</td>\n",
       "      <td>1</td>\n",
       "    </tr>\n",
       "  </tbody>\n",
       "</table>\n",
       "</div>"
      ],
      "text/plain": [
       "       CONTRACT_TYPE  GENDER  NUM_CHILDREN    INCOME  APPROVED_CREDIT  \\\n",
       "3780               1       1             0  157500.0         473760.0   \n",
       "6718               1       1             1  315000.0         640080.0   \n",
       "24196              1       1             0  180000.0         450000.0   \n",
       "28978              1       0             1  103500.0         430582.5   \n",
       "43299              1       0             0  247500.0         894249.0   \n",
       "\n",
       "       ANNUITY     PRICE  EDUCATION  DAYS_AGE  DAYS_WORK  DAYS_REGISTRATION  \\\n",
       "3780   53581.5  450000.0          1     -9638      -1186            -4433.0   \n",
       "6718   31261.5  450000.0          1    -15291      -1643            -7469.0   \n",
       "24196  21109.5  450000.0          1    -14258      -1544            -1898.0   \n",
       "28978  28903.5  355500.0          0    -12281      -1474            -2450.0   \n",
       "43299  32251.5  693000.0          1    -14200       -802            -1407.0   \n",
       "\n",
       "       DAYS_ID_CHANGE  EXT_SCORE_2  EXT_SCORE_3  INCOME_TYPE_PNS  \\\n",
       "3780            -1754     0.780145     0.493863                0   \n",
       "6718            -2883     0.645223     0.151935                0   \n",
       "24196           -4986     0.471032     0.681706                0   \n",
       "28978           -1856     0.077646     0.461482                0   \n",
       "43299           -3422     0.632719     0.056092                0   \n",
       "\n",
       "       INCOME_TYPE_Pegawai swasta  INCOME_TYPE_Pensioner  \\\n",
       "3780                            0                      0   \n",
       "6718                            0                      0   \n",
       "24196                           1                      0   \n",
       "28978                           1                      0   \n",
       "43299                           1                      0   \n",
       "\n",
       "       INCOME_TYPE_Unemployed  INCOME_TYPE_wirausaha  FAMILY_STATUS_Married  \\\n",
       "3780                        0                      1                      1   \n",
       "6718                        0                      1                      0   \n",
       "24196                       0                      0                      1   \n",
       "28978                       0                      0                      1   \n",
       "43299                       0                      0                      1   \n",
       "\n",
       "       FAMILY_STATUS_Separated  FAMILY_STATUS_Single / not married  \\\n",
       "3780                         0                                   0   \n",
       "6718                         0                                   1   \n",
       "24196                        0                                   0   \n",
       "28978                        0                                   0   \n",
       "43299                        0                                   0   \n",
       "\n",
       "       HOUSING_TYPE_Co-op apartment  HOUSING_TYPE_House / apartment  \\\n",
       "3780                              0                               1   \n",
       "6718                              0                               0   \n",
       "24196                             0                               1   \n",
       "28978                             0                               1   \n",
       "43299                             0                               1   \n",
       "\n",
       "       HOUSING_TYPE_Municipal apartment  HOUSING_TYPE_Office apartment  \\\n",
       "3780                                  0                              0   \n",
       "6718                                  1                              0   \n",
       "24196                                 0                              0   \n",
       "28978                                 0                              0   \n",
       "43299                                 0                              0   \n",
       "\n",
       "       HOUSING_TYPE_Rented apartment  HOUSING_TYPE_With parents  TARGET  \n",
       "3780                               0                          0       1  \n",
       "6718                               0                          0       1  \n",
       "24196                              0                          0       1  \n",
       "28978                              0                          0       1  \n",
       "43299                              0                          0       1  "
      ]
     },
     "execution_count": 63,
     "metadata": {},
     "output_type": "execute_result"
    }
   ],
   "source": [
    "fraud_oversample.head()"
   ]
  },
  {
   "cell_type": "code",
   "execution_count": 64,
   "id": "9576c6ae",
   "metadata": {},
   "outputs": [],
   "source": [
    "df_oversample = pd.concat([non_fraud, fraud_oversample])"
   ]
  },
  {
   "cell_type": "code",
   "execution_count": 65,
   "id": "1464592f",
   "metadata": {},
   "outputs": [
    {
     "data": {
      "text/plain": [
       "0    45182\n",
       "1    45182\n",
       "Name: TARGET, dtype: int64"
      ]
     },
     "execution_count": 65,
     "metadata": {},
     "output_type": "execute_result"
    }
   ],
   "source": [
    "df_oversample['TARGET'].value_counts()"
   ]
  },
  {
   "cell_type": "code",
   "execution_count": 66,
   "id": "d0b67118",
   "metadata": {},
   "outputs": [],
   "source": [
    "X_train_OS = df_oversample.drop(columns='TARGET')\n",
    "y_train_OS = df_oversample['TARGET']\n",
    "LR_OS = LogisticRegression()"
   ]
  },
  {
   "cell_type": "code",
   "execution_count": 67,
   "id": "df89a24b",
   "metadata": {},
   "outputs": [],
   "source": [
    "df_LR_OS, cr_LR_OS_tr, cm_LR_OS_tr, cr_LR_OS_ts, cm_LR_OS_ts = Eva_Matrix_Base_Class(LR_OS, X_train_OS, \n",
    "                                                                      X_test, \n",
    "                                                                      y_train_OS, \n",
    "                                                                      y_test, \n",
    "                                                                      \"LR_OS\")"
   ]
  },
  {
   "cell_type": "code",
   "execution_count": 68,
   "id": "f7a2d604",
   "metadata": {},
   "outputs": [
    {
     "data": {
      "text/html": [
       "<div>\n",
       "<style scoped>\n",
       "    .dataframe tbody tr th:only-of-type {\n",
       "        vertical-align: middle;\n",
       "    }\n",
       "\n",
       "    .dataframe tbody tr th {\n",
       "        vertical-align: top;\n",
       "    }\n",
       "\n",
       "    .dataframe thead th {\n",
       "        text-align: right;\n",
       "    }\n",
       "</style>\n",
       "<table border=\"1\" class=\"dataframe\">\n",
       "  <thead>\n",
       "    <tr style=\"text-align: right;\">\n",
       "      <th></th>\n",
       "      <th>LR_OSTraining</th>\n",
       "      <th>LR_OSTesting</th>\n",
       "    </tr>\n",
       "  </thead>\n",
       "  <tbody>\n",
       "    <tr>\n",
       "      <th>Accuracy</th>\n",
       "      <td>0.578217</td>\n",
       "      <td>0.589111</td>\n",
       "    </tr>\n",
       "    <tr>\n",
       "      <th>Recall</th>\n",
       "      <td>0.560953</td>\n",
       "      <td>0.580060</td>\n",
       "    </tr>\n",
       "    <tr>\n",
       "      <th>Precision</th>\n",
       "      <td>0.581014</td>\n",
       "      <td>0.110599</td>\n",
       "    </tr>\n",
       "    <tr>\n",
       "      <th>F1</th>\n",
       "      <td>0.570808</td>\n",
       "      <td>0.185776</td>\n",
       "    </tr>\n",
       "  </tbody>\n",
       "</table>\n",
       "</div>"
      ],
      "text/plain": [
       "           LR_OSTraining  LR_OSTesting\n",
       "Accuracy        0.578217      0.589111\n",
       "Recall          0.560953      0.580060\n",
       "Precision       0.581014      0.110599\n",
       "F1              0.570808      0.185776"
      ]
     },
     "execution_count": 68,
     "metadata": {},
     "output_type": "execute_result"
    }
   ],
   "source": [
    "df_LR_OS"
   ]
  },
  {
   "cell_type": "code",
   "execution_count": 69,
   "id": "10f2d68c",
   "metadata": {},
   "outputs": [
    {
     "name": "stdout",
     "output_type": "stream",
     "text": [
      "              precision    recall  f1-score   support\n",
      "\n",
      "           0       0.58      0.60      0.59     45182\n",
      "           1       0.58      0.56      0.57     45182\n",
      "\n",
      "    accuracy                           0.58     90364\n",
      "   macro avg       0.58      0.58      0.58     90364\n",
      "weighted avg       0.58      0.58      0.58     90364\n",
      "\n"
     ]
    }
   ],
   "source": [
    "print(cr_LR_OS_tr)"
   ]
  },
  {
   "cell_type": "code",
   "execution_count": 70,
   "id": "a656d1f6",
   "metadata": {},
   "outputs": [
    {
     "name": "stdout",
     "output_type": "stream",
     "text": [
      "       Pred 1  Pred 0\n",
      "Akt 1   25345   19837\n",
      "Akt 0   18277   26905\n"
     ]
    }
   ],
   "source": [
    "print(cm_LR_OS_tr)"
   ]
  },
  {
   "cell_type": "code",
   "execution_count": 71,
   "id": "a57ff04a",
   "metadata": {},
   "outputs": [
    {
     "name": "stdout",
     "output_type": "stream",
     "text": [
      "              precision    recall  f1-score   support\n",
      "\n",
      "           0       0.94      0.59      0.73     11295\n",
      "           1       0.11      0.58      0.19       993\n",
      "\n",
      "    accuracy                           0.59     12288\n",
      "   macro avg       0.53      0.58      0.46     12288\n",
      "weighted avg       0.87      0.59      0.68     12288\n",
      "\n"
     ]
    }
   ],
   "source": [
    "print(cr_LR_OS_ts)"
   ]
  },
  {
   "cell_type": "code",
   "execution_count": 72,
   "id": "b64582b6",
   "metadata": {},
   "outputs": [
    {
     "data": {
      "text/html": [
       "<div>\n",
       "<style scoped>\n",
       "    .dataframe tbody tr th:only-of-type {\n",
       "        vertical-align: middle;\n",
       "    }\n",
       "\n",
       "    .dataframe tbody tr th {\n",
       "        vertical-align: top;\n",
       "    }\n",
       "\n",
       "    .dataframe thead th {\n",
       "        text-align: right;\n",
       "    }\n",
       "</style>\n",
       "<table border=\"1\" class=\"dataframe\">\n",
       "  <thead>\n",
       "    <tr style=\"text-align: right;\">\n",
       "      <th></th>\n",
       "      <th>Pred 1</th>\n",
       "      <th>Pred 0</th>\n",
       "    </tr>\n",
       "  </thead>\n",
       "  <tbody>\n",
       "    <tr>\n",
       "      <th>Akt 1</th>\n",
       "      <td>576</td>\n",
       "      <td>417</td>\n",
       "    </tr>\n",
       "    <tr>\n",
       "      <th>Akt 0</th>\n",
       "      <td>4632</td>\n",
       "      <td>6663</td>\n",
       "    </tr>\n",
       "  </tbody>\n",
       "</table>\n",
       "</div>"
      ],
      "text/plain": [
       "       Pred 1  Pred 0\n",
       "Akt 1     576     417\n",
       "Akt 0    4632    6663"
      ]
     },
     "execution_count": 72,
     "metadata": {},
     "output_type": "execute_result"
    }
   ],
   "source": [
    "cm_LR_OS_ts"
   ]
  },
  {
   "cell_type": "code",
   "execution_count": 73,
   "id": "f684cbfa",
   "metadata": {},
   "outputs": [
    {
     "data": {
      "text/html": [
       "<div>\n",
       "<style scoped>\n",
       "    .dataframe tbody tr th:only-of-type {\n",
       "        vertical-align: middle;\n",
       "    }\n",
       "\n",
       "    .dataframe tbody tr th {\n",
       "        vertical-align: top;\n",
       "    }\n",
       "\n",
       "    .dataframe thead th {\n",
       "        text-align: right;\n",
       "    }\n",
       "</style>\n",
       "<table border=\"1\" class=\"dataframe\">\n",
       "  <thead>\n",
       "    <tr style=\"text-align: right;\">\n",
       "      <th></th>\n",
       "      <th>Pred 1</th>\n",
       "      <th>Pred 0</th>\n",
       "    </tr>\n",
       "  </thead>\n",
       "  <tbody>\n",
       "    <tr>\n",
       "      <th>Akt 1</th>\n",
       "      <td>0</td>\n",
       "      <td>993</td>\n",
       "    </tr>\n",
       "    <tr>\n",
       "      <th>Akt 0</th>\n",
       "      <td>0</td>\n",
       "      <td>11295</td>\n",
       "    </tr>\n",
       "  </tbody>\n",
       "</table>\n",
       "</div>"
      ],
      "text/plain": [
       "       Pred 1  Pred 0\n",
       "Akt 1       0     993\n",
       "Akt 0       0   11295"
      ]
     },
     "execution_count": 73,
     "metadata": {},
     "output_type": "execute_result"
    }
   ],
   "source": [
    "cm_LR_ts # algoritma awal logistic regression"
   ]
  },
  {
   "cell_type": "markdown",
   "id": "3e55d851",
   "metadata": {},
   "source": [
    "## Kesimpulan\n",
    "- recall dari data training dan data testing untuk kasus fraud sudah lumayan baik dikarenakan hasilnya 0.58, namun mungkin dapat ditingkatkan lagi dengan tuning\n",
    "- Error atau false negatifnya mengecil yang berarti mesin mulai bisa mendeteksi peminjaman yang telat bayar (Fraud)"
   ]
  },
  {
   "cell_type": "markdown",
   "id": "d8926e75",
   "metadata": {},
   "source": [
    "## 2. Logistic Regression with Over sampling and tuning"
   ]
  },
  {
   "cell_type": "code",
   "execution_count": 74,
   "id": "fdabc340",
   "metadata": {},
   "outputs": [],
   "source": [
    "param_c = np.arange(0.01, 5, 0.01)"
   ]
  },
  {
   "cell_type": "code",
   "execution_count": 75,
   "id": "fc30849f",
   "metadata": {},
   "outputs": [],
   "source": [
    "def Manual_Tune(C, X_train, X_test, y_train, y_test, Model, Reg, slvr):\n",
    "    train_acc = []\n",
    "    test_acc = []\n",
    "    if slvr == 'elasticnet':\n",
    "        Reg=0.5\n",
    "    else :\n",
    "        rat= None\n",
    "    \n",
    "    for i in C:\n",
    "        model_R = Model(C=i, penalty=Reg, solver=slvr, l1_ratio=0.5) #solver metode menurunkan error\n",
    "        model_R.fit(X_train, y_train) #l1 ratio itu komposisi lasso dari elastic net\n",
    "        y_pred_tr = model_R.predict(X_train)\n",
    "        Rc_train = recall_score(y_train, y_pred_tr)\n",
    "        train_acc.append(Rc_train)\n",
    "        y_pred_ts = model_R.predict(X_test)\n",
    "        Rc_test = recall_score(y_test, y_pred_ts)\n",
    "        test_acc.append(Rc_test)\n",
    "    return train_acc, test_acc"
   ]
  },
  {
   "cell_type": "code",
   "execution_count": 76,
   "id": "69ca755a",
   "metadata": {},
   "outputs": [],
   "source": [
    "#penalti regularization = l2 = ridge"
   ]
  },
  {
   "cell_type": "code",
   "execution_count": 77,
   "id": "6d319e10",
   "metadata": {},
   "outputs": [],
   "source": [
    "train_LR, test_LR, = Manual_Tune(param_c, X_train_OS, X_test, y_train_OS, y_test, LogisticRegression, 'l2', 'lbfgs')"
   ]
  },
  {
   "cell_type": "code",
   "execution_count": 78,
   "id": "19154107",
   "metadata": {},
   "outputs": [
    {
     "data": {
      "image/png": "[encoded data removed]",
      "text/plain": [
       "<Figure size 576x504 with 1 Axes>"
      ]
     },
     "metadata": {
      "needs_background": "light"
     },
     "output_type": "display_data"
    }
   ],
   "source": [
    "plt.figure(figsize=(8,7))\n",
    "plt.plot(param_c, train_LR, color='red')\n",
    "plt.plot(param_c, test_LR)\n",
    "plt.legend(['train_Recall', 'test_Recall'])\n",
    "plt.title('Manual tuning oversampling + l2')\n",
    "plt.xlabel('Nilai c')\n",
    "plt.ylabel('Nilai recall')\n",
    "plt.show()"
   ]
  },
  {
   "cell_type": "code",
   "execution_count": 79,
   "id": "83271cc3",
   "metadata": {},
   "outputs": [
    {
     "name": "stdout",
     "output_type": "stream",
     "text": [
      "max Recall : 0.5830815709969789\n"
     ]
    }
   ],
   "source": [
    "print('max Recall :', np.max(test_LR))"
   ]
  },
  {
   "cell_type": "code",
   "execution_count": 80,
   "id": "42289dac",
   "metadata": {},
   "outputs": [],
   "source": [
    "# penalti regularization =l1 = lasso"
   ]
  },
  {
   "cell_type": "code",
   "execution_count": 81,
   "id": "0ba3880b",
   "metadata": {},
   "outputs": [],
   "source": [
    "train_LR_l1, test_LR_l1 = Manual_Tune(param_c, X_train_OS, X_test, y_train_OS, y_test, LogisticRegression, 'l1', 'liblinear')"
   ]
  },
  {
   "cell_type": "code",
   "execution_count": 82,
   "id": "c5d1dcb7",
   "metadata": {},
   "outputs": [
    {
     "data": {
      "image/png": "[encoded data removed]",
      "text/plain": [
       "<Figure size 576x504 with 1 Axes>"
      ]
     },
     "metadata": {
      "needs_background": "light"
     },
     "output_type": "display_data"
    }
   ],
   "source": [
    "plt.figure(figsize=(8,7))\n",
    "plt.plot(param_c, train_LR_l1, 'r*-')\n",
    "plt.plot(param_c, test_LR_l1, 'b*-')\n",
    "plt.legend(['Train Recall', 'Test Recall'])\n",
    "plt.title(\"Manual Tuning Oversampling + l1\")\n",
    "plt.xlabel(\"Nilai C\")\n",
    "plt.ylabel(\"Nilai Recall\")\n",
    "plt.show()"
   ]
  },
  {
   "cell_type": "code",
   "execution_count": 83,
   "id": "7bb4b0c3",
   "metadata": {},
   "outputs": [
    {
     "name": "stdout",
     "output_type": "stream",
     "text": [
      "max Recall : 0.6908358509566969\n"
     ]
    }
   ],
   "source": [
    "print('max Recall :', np.max(test_LR_l1))"
   ]
  },
  {
   "cell_type": "code",
   "execution_count": 84,
   "id": "9325a09d",
   "metadata": {},
   "outputs": [
    {
     "name": "stdout",
     "output_type": "stream",
     "text": [
      "index c max : 419\n"
     ]
    }
   ],
   "source": [
    "print('index c max :', np.argmax(test_LR_l1))"
   ]
  },
  {
   "cell_type": "code",
   "execution_count": 85,
   "id": "b3091c1c",
   "metadata": {},
   "outputs": [
    {
     "data": {
      "text/plain": [
       "4.2"
      ]
     },
     "execution_count": 85,
     "metadata": {},
     "output_type": "execute_result"
    }
   ],
   "source": [
    "param_c[np.argmax(test_LR_l1)]"
   ]
  },
  {
   "cell_type": "code",
   "execution_count": 86,
   "id": "a959288c",
   "metadata": {},
   "outputs": [],
   "source": [
    "#penalti regularization elastic net"
   ]
  },
  {
   "cell_type": "code",
   "execution_count": 87,
   "id": "838936d2",
   "metadata": {},
   "outputs": [],
   "source": [
    "train_LR_enet, test_LR_enet = Manual_Tune(param_c, X_train_OS , X_test, y_train_OS, y_test, LogisticRegression, 'elasticnet', 'saga')"
   ]
  },
  {
   "cell_type": "code",
   "execution_count": 88,
   "id": "e71bd6d1",
   "metadata": {},
   "outputs": [
    {
     "data": {
      "image/png": "[encoded data removed]",
      "text/plain": [
       "<Figure size 576x504 with 1 Axes>"
      ]
     },
     "metadata": {
      "needs_background": "light"
     },
     "output_type": "display_data"
    }
   ],
   "source": [
    "plt.figure(figsize=(8,7))\n",
    "plt.plot(param_c, train_LR_enet, 'r*-')\n",
    "plt.plot(param_c, test_LR_enet, 'b*-')\n",
    "plt.legend(['Train Recall', 'Test Recall'])\n",
    "plt.title(\"Manual Tuning Oversampling + enet\")\n",
    "plt.xlabel(\"Nilai C\")\n",
    "plt.ylabel(\"Nilai Recall\")\n",
    "plt.show()"
   ]
  },
  {
   "cell_type": "code",
   "execution_count": 89,
   "id": "78b58c64",
   "metadata": {},
   "outputs": [
    {
     "name": "stdout",
     "output_type": "stream",
     "text": [
      "max Recall 0.6122860020140987\n"
     ]
    }
   ],
   "source": [
    "print(\"max Recall\", np.max(test_LR_enet))"
   ]
  },
  {
   "cell_type": "code",
   "execution_count": 90,
   "id": "543b1add",
   "metadata": {},
   "outputs": [],
   "source": [
    "# fine tuning"
   ]
  },
  {
   "cell_type": "code",
   "execution_count": 91,
   "id": "d8b1977e",
   "metadata": {},
   "outputs": [],
   "source": [
    "param_c_2 = np.arange(3, 5, 0.001)"
   ]
  },
  {
   "cell_type": "code",
   "execution_count": null,
   "id": "44a00776",
   "metadata": {},
   "outputs": [],
   "source": [
    "train_LR_2, test_LR_2 = Manual_Tune(param_c_2, X_train_OS, X_test, y_train_OS, y_test, LogisticRegression, 'l1', 'liblinear')"
   ]
  },
  {
   "cell_type": "code",
   "execution_count": null,
   "id": "da9e0bdd",
   "metadata": {},
   "outputs": [],
   "source": [
    "plt.figure(figsize=(8,7))\n",
    "plt.plot(param_c_2, train_LR_2, 'r*-')\n",
    "plt.plot(param_c_2, test_LR_2, 'b*-')\n",
    "plt.legend(['Train Recall', 'Test Recall'])\n",
    "plt.title(\"Manual Tuning Oversampling + l1\")\n",
    "plt.xlabel(\"Nilai C\")\n",
    "plt.ylabel(\"Nilai RECALL\")\n",
    "plt.show()"
   ]
  },
  {
   "cell_type": "code",
   "execution_count": null,
   "id": "f5144e7f",
   "metadata": {},
   "outputs": [],
   "source": [
    "print('Max Recall:', np.max(test_LR_2))"
   ]
  },
  {
   "cell_type": "code",
   "execution_count": null,
   "id": "b3d17cb8",
   "metadata": {},
   "outputs": [],
   "source": [
    "param_c_2[np.argmax(test_LR_2)]"
   ]
  },
  {
   "cell_type": "markdown",
   "id": "f712453e",
   "metadata": {},
   "source": [
    "Algoritma yang dipilih adalah Logistic Regression dengan oversampling dan tuning lasso dikarenakan besarnya recall mencapai 69%. Dengan recall yang sebesar 69% dapat diketahui bahwa potensi fraud dalam pembayaran dapat dideteksi oleh algoritma sistem"
   ]
  },
  {
   "cell_type": "code",
   "execution_count": null,
   "id": "7cec8537",
   "metadata": {},
   "outputs": [],
   "source": []
  }
 ],
 "metadata": {
  "kernelspec": {
   "display_name": "Python 3 (ipykernel)",
   "language": "python",
   "name": "python3"
  },
  "language_info": {
   "codemirror_mode": {
    "name": "ipython",
    "version": 3
   },
   "file_extension": ".py",
   "mimetype": "text/x-python",
   "name": "python",
   "nbconvert_exporter": "python",
   "pygments_lexer": "ipython3",
   "version": "3.9.12"
  }
 },
 "nbformat": 4,
 "nbformat_minor": 5
}
